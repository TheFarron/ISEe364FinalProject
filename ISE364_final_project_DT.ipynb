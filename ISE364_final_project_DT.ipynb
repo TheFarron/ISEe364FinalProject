{
 "cells": [
  {
   "cell_type": "code",
   "execution_count": 16,
   "metadata": {},
   "outputs": [],
   "source": [
    "import numpy as np\n",
    "import pandas as pd\n",
    "import matplotlib as mpl\n",
    "import matplotlib.pyplot as plt\n",
    "\n",
    "from sklearn import preprocessing"
   ]
  },
  {
   "cell_type": "code",
   "execution_count": 17,
   "metadata": {},
   "outputs": [],
   "source": [
    "data = pd.read_csv('data.csv', header =None)"
   ]
  },
  {
   "cell_type": "code",
   "execution_count": 18,
   "metadata": {},
   "outputs": [
    {
     "data": {
      "text/html": [
       "<div>\n",
       "<style scoped>\n",
       "    .dataframe tbody tr th:only-of-type {\n",
       "        vertical-align: middle;\n",
       "    }\n",
       "\n",
       "    .dataframe tbody tr th {\n",
       "        vertical-align: top;\n",
       "    }\n",
       "\n",
       "    .dataframe thead th {\n",
       "        text-align: right;\n",
       "    }\n",
       "</style>\n",
       "<table border=\"1\" class=\"dataframe\">\n",
       "  <thead>\n",
       "    <tr style=\"text-align: right;\">\n",
       "      <th></th>\n",
       "      <th>0</th>\n",
       "      <th>1</th>\n",
       "      <th>2</th>\n",
       "      <th>3</th>\n",
       "      <th>4</th>\n",
       "      <th>5</th>\n",
       "      <th>6</th>\n",
       "      <th>7</th>\n",
       "      <th>8</th>\n",
       "      <th>9</th>\n",
       "      <th>10</th>\n",
       "      <th>11</th>\n",
       "      <th>12</th>\n",
       "      <th>13</th>\n",
       "      <th>14</th>\n",
       "    </tr>\n",
       "  </thead>\n",
       "  <tbody>\n",
       "    <tr>\n",
       "      <td>0</td>\n",
       "      <td>39</td>\n",
       "      <td>A0</td>\n",
       "      <td>77516</td>\n",
       "      <td>B0</td>\n",
       "      <td>13</td>\n",
       "      <td>C0</td>\n",
       "      <td>D0</td>\n",
       "      <td>E0</td>\n",
       "      <td>F0</td>\n",
       "      <td>G0</td>\n",
       "      <td>2174</td>\n",
       "      <td>0</td>\n",
       "      <td>40</td>\n",
       "      <td>H0</td>\n",
       "      <td>SMALL</td>\n",
       "    </tr>\n",
       "    <tr>\n",
       "      <td>1</td>\n",
       "      <td>50</td>\n",
       "      <td>A1</td>\n",
       "      <td>83311</td>\n",
       "      <td>B0</td>\n",
       "      <td>13</td>\n",
       "      <td>C1</td>\n",
       "      <td>D1</td>\n",
       "      <td>E1</td>\n",
       "      <td>F0</td>\n",
       "      <td>G0</td>\n",
       "      <td>0</td>\n",
       "      <td>0</td>\n",
       "      <td>13</td>\n",
       "      <td>H0</td>\n",
       "      <td>SMALL</td>\n",
       "    </tr>\n",
       "    <tr>\n",
       "      <td>2</td>\n",
       "      <td>38</td>\n",
       "      <td>A2</td>\n",
       "      <td>215646</td>\n",
       "      <td>B1</td>\n",
       "      <td>9</td>\n",
       "      <td>C2</td>\n",
       "      <td>D2</td>\n",
       "      <td>E0</td>\n",
       "      <td>F0</td>\n",
       "      <td>G0</td>\n",
       "      <td>0</td>\n",
       "      <td>0</td>\n",
       "      <td>40</td>\n",
       "      <td>H0</td>\n",
       "      <td>SMALL</td>\n",
       "    </tr>\n",
       "    <tr>\n",
       "      <td>3</td>\n",
       "      <td>53</td>\n",
       "      <td>A2</td>\n",
       "      <td>234721</td>\n",
       "      <td>B2</td>\n",
       "      <td>7</td>\n",
       "      <td>C1</td>\n",
       "      <td>D2</td>\n",
       "      <td>E1</td>\n",
       "      <td>F1</td>\n",
       "      <td>G0</td>\n",
       "      <td>0</td>\n",
       "      <td>0</td>\n",
       "      <td>40</td>\n",
       "      <td>H0</td>\n",
       "      <td>SMALL</td>\n",
       "    </tr>\n",
       "    <tr>\n",
       "      <td>4</td>\n",
       "      <td>28</td>\n",
       "      <td>A2</td>\n",
       "      <td>338409</td>\n",
       "      <td>B0</td>\n",
       "      <td>13</td>\n",
       "      <td>C1</td>\n",
       "      <td>D3</td>\n",
       "      <td>E2</td>\n",
       "      <td>F1</td>\n",
       "      <td>G1</td>\n",
       "      <td>0</td>\n",
       "      <td>0</td>\n",
       "      <td>40</td>\n",
       "      <td>H1</td>\n",
       "      <td>SMALL</td>\n",
       "    </tr>\n",
       "  </tbody>\n",
       "</table>\n",
       "</div>"
      ],
      "text/plain": [
       "   0   1       2   3   4   5   6   7   8   9     10  11  12  13     14\n",
       "0  39  A0   77516  B0  13  C0  D0  E0  F0  G0  2174   0  40  H0  SMALL\n",
       "1  50  A1   83311  B0  13  C1  D1  E1  F0  G0     0   0  13  H0  SMALL\n",
       "2  38  A2  215646  B1   9  C2  D2  E0  F0  G0     0   0  40  H0  SMALL\n",
       "3  53  A2  234721  B2   7  C1  D2  E1  F1  G0     0   0  40  H0  SMALL\n",
       "4  28  A2  338409  B0  13  C1  D3  E2  F1  G1     0   0  40  H1  SMALL"
      ]
     },
     "execution_count": 18,
     "metadata": {},
     "output_type": "execute_result"
    }
   ],
   "source": [
    "data.head()"
   ]
  },
  {
   "cell_type": "markdown",
   "metadata": {},
   "source": [
    "# Normalize data"
   ]
  },
  {
   "cell_type": "markdown",
   "metadata": {},
   "source": [
    "Split data into categorical and numerical so that we can normalize the numerical data.  "
   ]
  },
  {
   "cell_type": "code",
   "execution_count": 19,
   "metadata": {},
   "outputs": [],
   "source": [
    "x = data.iloc[:,[0,2,4,10,11,12]].values.astype(float)\n",
    "y = data.iloc[:,[1,3,5,6,7,8,9,13,14]]"
   ]
  },
  {
   "cell_type": "code",
   "execution_count": 20,
   "metadata": {},
   "outputs": [],
   "source": [
    "min_max_scaler = preprocessing.MinMaxScaler()\n",
    "x_scaled = min_max_scaler.fit_transform(x)\n",
    "df_numeric = pd.DataFrame(x_scaled)"
   ]
  },
  {
   "cell_type": "code",
   "execution_count": 21,
   "metadata": {},
   "outputs": [],
   "source": [
    "cats = [1,3,5,6,7,8,9,13]"
   ]
  },
  {
   "cell_type": "code",
   "execution_count": 22,
   "metadata": {},
   "outputs": [],
   "source": [
    "df_cats = pd.get_dummies(y, columns = cats, drop_first = True)"
   ]
  },
  {
   "cell_type": "code",
   "execution_count": 23,
   "metadata": {},
   "outputs": [
    {
     "data": {
      "text/html": [
       "<div>\n",
       "<style scoped>\n",
       "    .dataframe tbody tr th:only-of-type {\n",
       "        vertical-align: middle;\n",
       "    }\n",
       "\n",
       "    .dataframe tbody tr th {\n",
       "        vertical-align: top;\n",
       "    }\n",
       "\n",
       "    .dataframe thead th {\n",
       "        text-align: right;\n",
       "    }\n",
       "</style>\n",
       "<table border=\"1\" class=\"dataframe\">\n",
       "  <thead>\n",
       "    <tr style=\"text-align: right;\">\n",
       "      <th></th>\n",
       "      <th>0</th>\n",
       "      <th>1</th>\n",
       "      <th>2</th>\n",
       "      <th>3</th>\n",
       "      <th>4</th>\n",
       "      <th>5</th>\n",
       "    </tr>\n",
       "  </thead>\n",
       "  <tbody>\n",
       "    <tr>\n",
       "      <td>0</td>\n",
       "      <td>0.301370</td>\n",
       "      <td>0.044302</td>\n",
       "      <td>0.800000</td>\n",
       "      <td>0.02174</td>\n",
       "      <td>0.0</td>\n",
       "      <td>0.397959</td>\n",
       "    </tr>\n",
       "    <tr>\n",
       "      <td>1</td>\n",
       "      <td>0.452055</td>\n",
       "      <td>0.048238</td>\n",
       "      <td>0.800000</td>\n",
       "      <td>0.00000</td>\n",
       "      <td>0.0</td>\n",
       "      <td>0.122449</td>\n",
       "    </tr>\n",
       "    <tr>\n",
       "      <td>2</td>\n",
       "      <td>0.287671</td>\n",
       "      <td>0.138113</td>\n",
       "      <td>0.533333</td>\n",
       "      <td>0.00000</td>\n",
       "      <td>0.0</td>\n",
       "      <td>0.397959</td>\n",
       "    </tr>\n",
       "    <tr>\n",
       "      <td>3</td>\n",
       "      <td>0.493151</td>\n",
       "      <td>0.151068</td>\n",
       "      <td>0.400000</td>\n",
       "      <td>0.00000</td>\n",
       "      <td>0.0</td>\n",
       "      <td>0.397959</td>\n",
       "    </tr>\n",
       "    <tr>\n",
       "      <td>4</td>\n",
       "      <td>0.150685</td>\n",
       "      <td>0.221488</td>\n",
       "      <td>0.800000</td>\n",
       "      <td>0.00000</td>\n",
       "      <td>0.0</td>\n",
       "      <td>0.397959</td>\n",
       "    </tr>\n",
       "  </tbody>\n",
       "</table>\n",
       "</div>"
      ],
      "text/plain": [
       "          0         1         2        3    4         5\n",
       "0  0.301370  0.044302  0.800000  0.02174  0.0  0.397959\n",
       "1  0.452055  0.048238  0.800000  0.00000  0.0  0.122449\n",
       "2  0.287671  0.138113  0.533333  0.00000  0.0  0.397959\n",
       "3  0.493151  0.151068  0.400000  0.00000  0.0  0.397959\n",
       "4  0.150685  0.221488  0.800000  0.00000  0.0  0.397959"
      ]
     },
     "execution_count": 23,
     "metadata": {},
     "output_type": "execute_result"
    }
   ],
   "source": [
    "df_numeric.head()"
   ]
  },
  {
   "cell_type": "code",
   "execution_count": 24,
   "metadata": {},
   "outputs": [
    {
     "data": {
      "text/html": [
       "<div>\n",
       "<style scoped>\n",
       "    .dataframe tbody tr th:only-of-type {\n",
       "        vertical-align: middle;\n",
       "    }\n",
       "\n",
       "    .dataframe tbody tr th {\n",
       "        vertical-align: top;\n",
       "    }\n",
       "\n",
       "    .dataframe thead th {\n",
       "        text-align: right;\n",
       "    }\n",
       "</style>\n",
       "<table border=\"1\" class=\"dataframe\">\n",
       "  <thead>\n",
       "    <tr style=\"text-align: right;\">\n",
       "      <th></th>\n",
       "      <th>14</th>\n",
       "      <th>1_A0</th>\n",
       "      <th>1_A1</th>\n",
       "      <th>1_A2</th>\n",
       "      <th>1_A3</th>\n",
       "      <th>1_A4</th>\n",
       "      <th>1_A6</th>\n",
       "      <th>1_A7</th>\n",
       "      <th>1_A8</th>\n",
       "      <th>3_B1</th>\n",
       "      <th>...</th>\n",
       "      <th>13_H37</th>\n",
       "      <th>13_H38</th>\n",
       "      <th>13_H39</th>\n",
       "      <th>13_H40</th>\n",
       "      <th>13_H41</th>\n",
       "      <th>13_H5</th>\n",
       "      <th>13_H6</th>\n",
       "      <th>13_H7</th>\n",
       "      <th>13_H8</th>\n",
       "      <th>13_H9</th>\n",
       "    </tr>\n",
       "  </thead>\n",
       "  <tbody>\n",
       "    <tr>\n",
       "      <td>0</td>\n",
       "      <td>SMALL</td>\n",
       "      <td>1</td>\n",
       "      <td>0</td>\n",
       "      <td>0</td>\n",
       "      <td>0</td>\n",
       "      <td>0</td>\n",
       "      <td>0</td>\n",
       "      <td>0</td>\n",
       "      <td>0</td>\n",
       "      <td>0</td>\n",
       "      <td>...</td>\n",
       "      <td>0</td>\n",
       "      <td>0</td>\n",
       "      <td>0</td>\n",
       "      <td>0</td>\n",
       "      <td>0</td>\n",
       "      <td>0</td>\n",
       "      <td>0</td>\n",
       "      <td>0</td>\n",
       "      <td>0</td>\n",
       "      <td>0</td>\n",
       "    </tr>\n",
       "    <tr>\n",
       "      <td>1</td>\n",
       "      <td>SMALL</td>\n",
       "      <td>0</td>\n",
       "      <td>1</td>\n",
       "      <td>0</td>\n",
       "      <td>0</td>\n",
       "      <td>0</td>\n",
       "      <td>0</td>\n",
       "      <td>0</td>\n",
       "      <td>0</td>\n",
       "      <td>0</td>\n",
       "      <td>...</td>\n",
       "      <td>0</td>\n",
       "      <td>0</td>\n",
       "      <td>0</td>\n",
       "      <td>0</td>\n",
       "      <td>0</td>\n",
       "      <td>0</td>\n",
       "      <td>0</td>\n",
       "      <td>0</td>\n",
       "      <td>0</td>\n",
       "      <td>0</td>\n",
       "    </tr>\n",
       "    <tr>\n",
       "      <td>2</td>\n",
       "      <td>SMALL</td>\n",
       "      <td>0</td>\n",
       "      <td>0</td>\n",
       "      <td>1</td>\n",
       "      <td>0</td>\n",
       "      <td>0</td>\n",
       "      <td>0</td>\n",
       "      <td>0</td>\n",
       "      <td>0</td>\n",
       "      <td>1</td>\n",
       "      <td>...</td>\n",
       "      <td>0</td>\n",
       "      <td>0</td>\n",
       "      <td>0</td>\n",
       "      <td>0</td>\n",
       "      <td>0</td>\n",
       "      <td>0</td>\n",
       "      <td>0</td>\n",
       "      <td>0</td>\n",
       "      <td>0</td>\n",
       "      <td>0</td>\n",
       "    </tr>\n",
       "    <tr>\n",
       "      <td>3</td>\n",
       "      <td>SMALL</td>\n",
       "      <td>0</td>\n",
       "      <td>0</td>\n",
       "      <td>1</td>\n",
       "      <td>0</td>\n",
       "      <td>0</td>\n",
       "      <td>0</td>\n",
       "      <td>0</td>\n",
       "      <td>0</td>\n",
       "      <td>0</td>\n",
       "      <td>...</td>\n",
       "      <td>0</td>\n",
       "      <td>0</td>\n",
       "      <td>0</td>\n",
       "      <td>0</td>\n",
       "      <td>0</td>\n",
       "      <td>0</td>\n",
       "      <td>0</td>\n",
       "      <td>0</td>\n",
       "      <td>0</td>\n",
       "      <td>0</td>\n",
       "    </tr>\n",
       "    <tr>\n",
       "      <td>4</td>\n",
       "      <td>SMALL</td>\n",
       "      <td>0</td>\n",
       "      <td>0</td>\n",
       "      <td>1</td>\n",
       "      <td>0</td>\n",
       "      <td>0</td>\n",
       "      <td>0</td>\n",
       "      <td>0</td>\n",
       "      <td>0</td>\n",
       "      <td>0</td>\n",
       "      <td>...</td>\n",
       "      <td>0</td>\n",
       "      <td>0</td>\n",
       "      <td>0</td>\n",
       "      <td>0</td>\n",
       "      <td>0</td>\n",
       "      <td>0</td>\n",
       "      <td>0</td>\n",
       "      <td>0</td>\n",
       "      <td>0</td>\n",
       "      <td>0</td>\n",
       "    </tr>\n",
       "  </tbody>\n",
       "</table>\n",
       "<p>5 rows × 95 columns</p>\n",
       "</div>"
      ],
      "text/plain": [
       "      14  1_A0  1_A1  1_A2  1_A3  1_A4  1_A6  1_A7  1_A8  3_B1  ...  13_H37  \\\n",
       "0  SMALL     1     0     0     0     0     0     0     0     0  ...       0   \n",
       "1  SMALL     0     1     0     0     0     0     0     0     0  ...       0   \n",
       "2  SMALL     0     0     1     0     0     0     0     0     1  ...       0   \n",
       "3  SMALL     0     0     1     0     0     0     0     0     0  ...       0   \n",
       "4  SMALL     0     0     1     0     0     0     0     0     0  ...       0   \n",
       "\n",
       "   13_H38  13_H39  13_H40  13_H41  13_H5  13_H6  13_H7  13_H8  13_H9  \n",
       "0       0       0       0       0      0      0      0      0      0  \n",
       "1       0       0       0       0      0      0      0      0      0  \n",
       "2       0       0       0       0      0      0      0      0      0  \n",
       "3       0       0       0       0      0      0      0      0      0  \n",
       "4       0       0       0       0      0      0      0      0      0  \n",
       "\n",
       "[5 rows x 95 columns]"
      ]
     },
     "execution_count": 24,
     "metadata": {},
     "output_type": "execute_result"
    }
   ],
   "source": [
    "df_cats.head()"
   ]
  },
  {
   "cell_type": "code",
   "execution_count": 25,
   "metadata": {},
   "outputs": [],
   "source": [
    "data_norm = df_numeric.merge(df_cats, left_index= True, right_index = True)"
   ]
  },
  {
   "cell_type": "code",
   "execution_count": 26,
   "metadata": {},
   "outputs": [
    {
     "data": {
      "text/html": [
       "<div>\n",
       "<style scoped>\n",
       "    .dataframe tbody tr th:only-of-type {\n",
       "        vertical-align: middle;\n",
       "    }\n",
       "\n",
       "    .dataframe tbody tr th {\n",
       "        vertical-align: top;\n",
       "    }\n",
       "\n",
       "    .dataframe thead th {\n",
       "        text-align: right;\n",
       "    }\n",
       "</style>\n",
       "<table border=\"1\" class=\"dataframe\">\n",
       "  <thead>\n",
       "    <tr style=\"text-align: right;\">\n",
       "      <th></th>\n",
       "      <th>0</th>\n",
       "      <th>1</th>\n",
       "      <th>2</th>\n",
       "      <th>3</th>\n",
       "      <th>4</th>\n",
       "      <th>5</th>\n",
       "      <th>14</th>\n",
       "      <th>1_A0</th>\n",
       "      <th>1_A1</th>\n",
       "      <th>1_A2</th>\n",
       "      <th>...</th>\n",
       "      <th>13_H37</th>\n",
       "      <th>13_H38</th>\n",
       "      <th>13_H39</th>\n",
       "      <th>13_H40</th>\n",
       "      <th>13_H41</th>\n",
       "      <th>13_H5</th>\n",
       "      <th>13_H6</th>\n",
       "      <th>13_H7</th>\n",
       "      <th>13_H8</th>\n",
       "      <th>13_H9</th>\n",
       "    </tr>\n",
       "  </thead>\n",
       "  <tbody>\n",
       "    <tr>\n",
       "      <td>0</td>\n",
       "      <td>0.301370</td>\n",
       "      <td>0.044302</td>\n",
       "      <td>0.800000</td>\n",
       "      <td>0.02174</td>\n",
       "      <td>0.0</td>\n",
       "      <td>0.397959</td>\n",
       "      <td>SMALL</td>\n",
       "      <td>1</td>\n",
       "      <td>0</td>\n",
       "      <td>0</td>\n",
       "      <td>...</td>\n",
       "      <td>0</td>\n",
       "      <td>0</td>\n",
       "      <td>0</td>\n",
       "      <td>0</td>\n",
       "      <td>0</td>\n",
       "      <td>0</td>\n",
       "      <td>0</td>\n",
       "      <td>0</td>\n",
       "      <td>0</td>\n",
       "      <td>0</td>\n",
       "    </tr>\n",
       "    <tr>\n",
       "      <td>1</td>\n",
       "      <td>0.452055</td>\n",
       "      <td>0.048238</td>\n",
       "      <td>0.800000</td>\n",
       "      <td>0.00000</td>\n",
       "      <td>0.0</td>\n",
       "      <td>0.122449</td>\n",
       "      <td>SMALL</td>\n",
       "      <td>0</td>\n",
       "      <td>1</td>\n",
       "      <td>0</td>\n",
       "      <td>...</td>\n",
       "      <td>0</td>\n",
       "      <td>0</td>\n",
       "      <td>0</td>\n",
       "      <td>0</td>\n",
       "      <td>0</td>\n",
       "      <td>0</td>\n",
       "      <td>0</td>\n",
       "      <td>0</td>\n",
       "      <td>0</td>\n",
       "      <td>0</td>\n",
       "    </tr>\n",
       "    <tr>\n",
       "      <td>2</td>\n",
       "      <td>0.287671</td>\n",
       "      <td>0.138113</td>\n",
       "      <td>0.533333</td>\n",
       "      <td>0.00000</td>\n",
       "      <td>0.0</td>\n",
       "      <td>0.397959</td>\n",
       "      <td>SMALL</td>\n",
       "      <td>0</td>\n",
       "      <td>0</td>\n",
       "      <td>1</td>\n",
       "      <td>...</td>\n",
       "      <td>0</td>\n",
       "      <td>0</td>\n",
       "      <td>0</td>\n",
       "      <td>0</td>\n",
       "      <td>0</td>\n",
       "      <td>0</td>\n",
       "      <td>0</td>\n",
       "      <td>0</td>\n",
       "      <td>0</td>\n",
       "      <td>0</td>\n",
       "    </tr>\n",
       "    <tr>\n",
       "      <td>3</td>\n",
       "      <td>0.493151</td>\n",
       "      <td>0.151068</td>\n",
       "      <td>0.400000</td>\n",
       "      <td>0.00000</td>\n",
       "      <td>0.0</td>\n",
       "      <td>0.397959</td>\n",
       "      <td>SMALL</td>\n",
       "      <td>0</td>\n",
       "      <td>0</td>\n",
       "      <td>1</td>\n",
       "      <td>...</td>\n",
       "      <td>0</td>\n",
       "      <td>0</td>\n",
       "      <td>0</td>\n",
       "      <td>0</td>\n",
       "      <td>0</td>\n",
       "      <td>0</td>\n",
       "      <td>0</td>\n",
       "      <td>0</td>\n",
       "      <td>0</td>\n",
       "      <td>0</td>\n",
       "    </tr>\n",
       "    <tr>\n",
       "      <td>4</td>\n",
       "      <td>0.150685</td>\n",
       "      <td>0.221488</td>\n",
       "      <td>0.800000</td>\n",
       "      <td>0.00000</td>\n",
       "      <td>0.0</td>\n",
       "      <td>0.397959</td>\n",
       "      <td>SMALL</td>\n",
       "      <td>0</td>\n",
       "      <td>0</td>\n",
       "      <td>1</td>\n",
       "      <td>...</td>\n",
       "      <td>0</td>\n",
       "      <td>0</td>\n",
       "      <td>0</td>\n",
       "      <td>0</td>\n",
       "      <td>0</td>\n",
       "      <td>0</td>\n",
       "      <td>0</td>\n",
       "      <td>0</td>\n",
       "      <td>0</td>\n",
       "      <td>0</td>\n",
       "    </tr>\n",
       "  </tbody>\n",
       "</table>\n",
       "<p>5 rows × 101 columns</p>\n",
       "</div>"
      ],
      "text/plain": [
       "          0         1         2        3    4         5     14  1_A0  1_A1  \\\n",
       "0  0.301370  0.044302  0.800000  0.02174  0.0  0.397959  SMALL     1     0   \n",
       "1  0.452055  0.048238  0.800000  0.00000  0.0  0.122449  SMALL     0     1   \n",
       "2  0.287671  0.138113  0.533333  0.00000  0.0  0.397959  SMALL     0     0   \n",
       "3  0.493151  0.151068  0.400000  0.00000  0.0  0.397959  SMALL     0     0   \n",
       "4  0.150685  0.221488  0.800000  0.00000  0.0  0.397959  SMALL     0     0   \n",
       "\n",
       "   1_A2  ...  13_H37  13_H38  13_H39  13_H40  13_H41  13_H5  13_H6  13_H7  \\\n",
       "0     0  ...       0       0       0       0       0      0      0      0   \n",
       "1     0  ...       0       0       0       0       0      0      0      0   \n",
       "2     1  ...       0       0       0       0       0      0      0      0   \n",
       "3     1  ...       0       0       0       0       0      0      0      0   \n",
       "4     1  ...       0       0       0       0       0      0      0      0   \n",
       "\n",
       "   13_H8  13_H9  \n",
       "0      0      0  \n",
       "1      0      0  \n",
       "2      0      0  \n",
       "3      0      0  \n",
       "4      0      0  \n",
       "\n",
       "[5 rows x 101 columns]"
      ]
     },
     "execution_count": 26,
     "metadata": {},
     "output_type": "execute_result"
    }
   ],
   "source": [
    "data_norm.head()"
   ]
  },
  {
   "cell_type": "markdown",
   "metadata": {},
   "source": [
    "Get dummy variables of all categorical features.  It may also be of interest to convert these to numeric, but for now I'm just going to make them binary features."
   ]
  },
  {
   "cell_type": "code",
   "execution_count": 27,
   "metadata": {},
   "outputs": [],
   "source": [
    "from sklearn.model_selection import train_test_split"
   ]
  },
  {
   "cell_type": "code",
   "execution_count": 28,
   "metadata": {},
   "outputs": [],
   "source": [
    "X = data_norm.drop(14, axis = 1)\n",
    "Y = data_norm[14]"
   ]
  },
  {
   "cell_type": "code",
   "execution_count": 29,
   "metadata": {},
   "outputs": [
    {
     "data": {
      "text/html": [
       "<div>\n",
       "<style scoped>\n",
       "    .dataframe tbody tr th:only-of-type {\n",
       "        vertical-align: middle;\n",
       "    }\n",
       "\n",
       "    .dataframe tbody tr th {\n",
       "        vertical-align: top;\n",
       "    }\n",
       "\n",
       "    .dataframe thead th {\n",
       "        text-align: right;\n",
       "    }\n",
       "</style>\n",
       "<table border=\"1\" class=\"dataframe\">\n",
       "  <thead>\n",
       "    <tr style=\"text-align: right;\">\n",
       "      <th></th>\n",
       "      <th>0</th>\n",
       "      <th>1</th>\n",
       "      <th>2</th>\n",
       "      <th>3</th>\n",
       "      <th>4</th>\n",
       "      <th>5</th>\n",
       "      <th>1_A0</th>\n",
       "      <th>1_A1</th>\n",
       "      <th>1_A2</th>\n",
       "      <th>1_A3</th>\n",
       "      <th>...</th>\n",
       "      <th>13_H37</th>\n",
       "      <th>13_H38</th>\n",
       "      <th>13_H39</th>\n",
       "      <th>13_H40</th>\n",
       "      <th>13_H41</th>\n",
       "      <th>13_H5</th>\n",
       "      <th>13_H6</th>\n",
       "      <th>13_H7</th>\n",
       "      <th>13_H8</th>\n",
       "      <th>13_H9</th>\n",
       "    </tr>\n",
       "  </thead>\n",
       "  <tbody>\n",
       "    <tr>\n",
       "      <td>0</td>\n",
       "      <td>0.301370</td>\n",
       "      <td>0.044302</td>\n",
       "      <td>0.800000</td>\n",
       "      <td>0.02174</td>\n",
       "      <td>0.0</td>\n",
       "      <td>0.397959</td>\n",
       "      <td>1</td>\n",
       "      <td>0</td>\n",
       "      <td>0</td>\n",
       "      <td>0</td>\n",
       "      <td>...</td>\n",
       "      <td>0</td>\n",
       "      <td>0</td>\n",
       "      <td>0</td>\n",
       "      <td>0</td>\n",
       "      <td>0</td>\n",
       "      <td>0</td>\n",
       "      <td>0</td>\n",
       "      <td>0</td>\n",
       "      <td>0</td>\n",
       "      <td>0</td>\n",
       "    </tr>\n",
       "    <tr>\n",
       "      <td>1</td>\n",
       "      <td>0.452055</td>\n",
       "      <td>0.048238</td>\n",
       "      <td>0.800000</td>\n",
       "      <td>0.00000</td>\n",
       "      <td>0.0</td>\n",
       "      <td>0.122449</td>\n",
       "      <td>0</td>\n",
       "      <td>1</td>\n",
       "      <td>0</td>\n",
       "      <td>0</td>\n",
       "      <td>...</td>\n",
       "      <td>0</td>\n",
       "      <td>0</td>\n",
       "      <td>0</td>\n",
       "      <td>0</td>\n",
       "      <td>0</td>\n",
       "      <td>0</td>\n",
       "      <td>0</td>\n",
       "      <td>0</td>\n",
       "      <td>0</td>\n",
       "      <td>0</td>\n",
       "    </tr>\n",
       "    <tr>\n",
       "      <td>2</td>\n",
       "      <td>0.287671</td>\n",
       "      <td>0.138113</td>\n",
       "      <td>0.533333</td>\n",
       "      <td>0.00000</td>\n",
       "      <td>0.0</td>\n",
       "      <td>0.397959</td>\n",
       "      <td>0</td>\n",
       "      <td>0</td>\n",
       "      <td>1</td>\n",
       "      <td>0</td>\n",
       "      <td>...</td>\n",
       "      <td>0</td>\n",
       "      <td>0</td>\n",
       "      <td>0</td>\n",
       "      <td>0</td>\n",
       "      <td>0</td>\n",
       "      <td>0</td>\n",
       "      <td>0</td>\n",
       "      <td>0</td>\n",
       "      <td>0</td>\n",
       "      <td>0</td>\n",
       "    </tr>\n",
       "    <tr>\n",
       "      <td>3</td>\n",
       "      <td>0.493151</td>\n",
       "      <td>0.151068</td>\n",
       "      <td>0.400000</td>\n",
       "      <td>0.00000</td>\n",
       "      <td>0.0</td>\n",
       "      <td>0.397959</td>\n",
       "      <td>0</td>\n",
       "      <td>0</td>\n",
       "      <td>1</td>\n",
       "      <td>0</td>\n",
       "      <td>...</td>\n",
       "      <td>0</td>\n",
       "      <td>0</td>\n",
       "      <td>0</td>\n",
       "      <td>0</td>\n",
       "      <td>0</td>\n",
       "      <td>0</td>\n",
       "      <td>0</td>\n",
       "      <td>0</td>\n",
       "      <td>0</td>\n",
       "      <td>0</td>\n",
       "    </tr>\n",
       "    <tr>\n",
       "      <td>4</td>\n",
       "      <td>0.150685</td>\n",
       "      <td>0.221488</td>\n",
       "      <td>0.800000</td>\n",
       "      <td>0.00000</td>\n",
       "      <td>0.0</td>\n",
       "      <td>0.397959</td>\n",
       "      <td>0</td>\n",
       "      <td>0</td>\n",
       "      <td>1</td>\n",
       "      <td>0</td>\n",
       "      <td>...</td>\n",
       "      <td>0</td>\n",
       "      <td>0</td>\n",
       "      <td>0</td>\n",
       "      <td>0</td>\n",
       "      <td>0</td>\n",
       "      <td>0</td>\n",
       "      <td>0</td>\n",
       "      <td>0</td>\n",
       "      <td>0</td>\n",
       "      <td>0</td>\n",
       "    </tr>\n",
       "  </tbody>\n",
       "</table>\n",
       "<p>5 rows × 100 columns</p>\n",
       "</div>"
      ],
      "text/plain": [
       "          0         1         2        3    4         5  1_A0  1_A1  1_A2  \\\n",
       "0  0.301370  0.044302  0.800000  0.02174  0.0  0.397959     1     0     0   \n",
       "1  0.452055  0.048238  0.800000  0.00000  0.0  0.122449     0     1     0   \n",
       "2  0.287671  0.138113  0.533333  0.00000  0.0  0.397959     0     0     1   \n",
       "3  0.493151  0.151068  0.400000  0.00000  0.0  0.397959     0     0     1   \n",
       "4  0.150685  0.221488  0.800000  0.00000  0.0  0.397959     0     0     1   \n",
       "\n",
       "   1_A3  ...  13_H37  13_H38  13_H39  13_H40  13_H41  13_H5  13_H6  13_H7  \\\n",
       "0     0  ...       0       0       0       0       0      0      0      0   \n",
       "1     0  ...       0       0       0       0       0      0      0      0   \n",
       "2     0  ...       0       0       0       0       0      0      0      0   \n",
       "3     0  ...       0       0       0       0       0      0      0      0   \n",
       "4     0  ...       0       0       0       0       0      0      0      0   \n",
       "\n",
       "   13_H8  13_H9  \n",
       "0      0      0  \n",
       "1      0      0  \n",
       "2      0      0  \n",
       "3      0      0  \n",
       "4      0      0  \n",
       "\n",
       "[5 rows x 100 columns]"
      ]
     },
     "execution_count": 29,
     "metadata": {},
     "output_type": "execute_result"
    }
   ],
   "source": [
    "X.head()"
   ]
  },
  {
   "cell_type": "code",
   "execution_count": 30,
   "metadata": {},
   "outputs": [],
   "source": [
    "X_train, X_test , Y_train, Y_test = train_test_split(X,Y, test_size = 0.3, random_state = 101)"
   ]
  },
  {
   "cell_type": "markdown",
   "metadata": {},
   "source": [
    "Get base estimate if we just guess the more common size, small vs large"
   ]
  },
  {
   "cell_type": "code",
   "execution_count": 31,
   "metadata": {},
   "outputs": [],
   "source": [
    "count_small = Y_test[Y_test == \"SMALL\"].count()\n",
    "count_large = Y_test[Y_test == \"LARGE\"].count()\n",
    "count = Y_test.count()"
   ]
  },
  {
   "cell_type": "markdown",
   "metadata": {},
   "source": [
    "If we always guessed small with the test data, our accuracy would be equal to 0.745165"
   ]
  },
  {
   "cell_type": "code",
   "execution_count": 32,
   "metadata": {},
   "outputs": [
    {
     "name": "stdout",
     "output_type": "stream",
     "text": [
      "0.7611833350394104\n"
     ]
    }
   ],
   "source": [
    "print (count_small/count)"
   ]
  },
  {
   "cell_type": "markdown",
   "metadata": {},
   "source": [
    "# Decision Tree"
   ]
  },
  {
   "cell_type": "code",
   "execution_count": 33,
   "metadata": {},
   "outputs": [],
   "source": [
    "from sklearn.tree import DecisionTreeClassifier"
   ]
  },
  {
   "cell_type": "code",
   "execution_count": 34,
   "metadata": {},
   "outputs": [],
   "source": [
    "dtree = DecisionTreeClassifier(random_state=42)\n",
    "dtree.fit(X_train,Y_train)\n",
    "predictions = dtree.predict(X_test)"
   ]
  },
  {
   "cell_type": "code",
   "execution_count": 35,
   "metadata": {},
   "outputs": [],
   "source": [
    "from sklearn.metrics import classification_report, confusion_matrix"
   ]
  },
  {
   "cell_type": "code",
   "execution_count": 36,
   "metadata": {},
   "outputs": [
    {
     "name": "stdout",
     "output_type": "stream",
     "text": [
      "              precision    recall  f1-score   support\n",
      "\n",
      "       LARGE       0.61      0.65      0.63      2333\n",
      "       SMALL       0.89      0.87      0.88      7436\n",
      "\n",
      "    accuracy                           0.82      9769\n",
      "   macro avg       0.75      0.76      0.75      9769\n",
      "weighted avg       0.82      0.82      0.82      9769\n",
      "\n"
     ]
    }
   ],
   "source": [
    "print (classification_report(Y_test,predictions))"
   ]
  },
  {
   "cell_type": "code",
   "execution_count": 37,
   "metadata": {},
   "outputs": [
    {
     "name": "stdout",
     "output_type": "stream",
     "text": [
      "0.18374449790152522\n"
     ]
    }
   ],
   "source": [
    "#error rate\n",
    "print ((confusion_matrix(Y_test,predictions)[0][1]+confusion_matrix(Y_test,predictions)[1][0])/count)"
   ]
  },
  {
   "cell_type": "markdown",
   "metadata": {},
   "source": [
    "# Tune DT \n",
    "## max_depth"
   ]
  },
  {
   "cell_type": "code",
   "execution_count": 38,
   "metadata": {},
   "outputs": [
    {
     "data": {
      "image/png": "[encoded data removed]",
      "text/plain": [
       "<Figure size 432x288 with 1 Axes>"
      ]
     },
     "metadata": {
      "needs_background": "light"
     },
     "output_type": "display_data"
    }
   ],
   "source": [
    "max_depths = np.linspace(1, 32, 32, endpoint=True)\n",
    "train_results = []\n",
    "test_results = []\n",
    "for max_depth in max_depths:\n",
    "    dtree = DecisionTreeClassifier(max_depth=max_depth,random_state=42)\n",
    "    dtree.fit(X_train, Y_train)\n",
    "    train_pred = dtree.predict(X_train)\n",
    "   \n",
    "    train_results.append(((confusion_matrix(Y_train,train_pred)[0][1]+confusion_matrix(Y_train,train_pred)[1][0])/Y_train.count()))\n",
    "   \n",
    "\n",
    "    y_pred = dtree.predict(X_test)\n",
    "    \n",
    "    test_results.append(((confusion_matrix(Y_test,y_pred)[0][1]+confusion_matrix(Y_test,y_pred)[1][0])/count))\n",
    "\n",
    "from matplotlib.legend_handler import HandlerLine2D\n",
    "\n",
    "line1, = plt.plot(max_depths, train_results, 'b', label= 'Train Error')\n",
    "line2, = plt.plot(max_depths, test_results, 'r', label= 'Test Error')\n",
    "plt.legend(handler_map={line1: HandlerLine2D(numpoints=2)})\n",
    "plt.ylabel('Error')\n",
    "plt.xlabel('Tree depth')\n",
    "plt.show()"
   ]
  },
  {
   "cell_type": "code",
   "execution_count": 39,
   "metadata": {},
   "outputs": [
    {
     "name": "stdout",
     "output_type": "stream",
     "text": [
      "[0.23881666496058962, 0.16828743986078412, 0.15149964172382024, 0.15160200634660662, 0.14412938888320195, 0.1432081072781247, 0.1416726379363292, 0.14116081482239737, 0.1449483058654929, 0.14392465963762924, 0.14822397379465657, 0.1487357969085884, 0.15211382946053845, 0.15303511106561574, 0.15518476814412938, 0.15784624833657487, 0.16255502098474767, 0.16378339645818404, 0.16705906438734774, 0.17135837854437505, 0.17463404647353875, 0.17657897430647967, 0.17494114034189784, 0.1780120790254888, 0.17862626676220697, 0.18026410072678883, 0.1800593714812161, 0.18190193469137067, 0.18261848705087522, 0.1794451837444979, 0.1844610502610298, 0.18507523799774797]\n"
     ]
    }
   ],
   "source": [
    "print (test_results)"
   ]
  },
  {
   "cell_type": "markdown",
   "metadata": {},
   "source": [
    "Optimal max_depth value = 7"
   ]
  },
  {
   "cell_type": "markdown",
   "metadata": {},
   "source": [
    "## min_sample_split"
   ]
  },
  {
   "cell_type": "code",
   "execution_count": 40,
   "metadata": {},
   "outputs": [
    {
     "data": {
      "image/png": "[encoded data removed]",
      "text/plain": [
       "<Figure size 432x288 with 1 Axes>"
      ]
     },
     "metadata": {
      "needs_background": "light"
     },
     "output_type": "display_data"
    }
   ],
   "source": [
    "min_samples_splits = [0.001,0.002,0.003,0.004,0.005,0.006,0.007,0.008,0.009,0.01]#np.linspace(0.0, 0.1, 10, endpoint=True)\n",
    "\n",
    "train_results = []\n",
    "test_results = []\n",
    "for min_samples_split in min_samples_splits:\n",
    "    dtree = DecisionTreeClassifier(max_depth = 10,min_samples_leaf=0.002,min_samples_split=min_samples_split,random_state=42)\n",
    "    dtree.fit(X_train, Y_train)\n",
    "    train_pred = dtree.predict(X_train)\n",
    "   \n",
    "    train_results.append(((confusion_matrix(Y_train,train_pred)[0][1]+confusion_matrix(Y_train,train_pred)[1][0])/Y_train.count()))\n",
    "   \n",
    "\n",
    "    y_pred = dtree.predict(X_test)\n",
    "    \n",
    "    test_results.append(((confusion_matrix(Y_test,y_pred)[0][1]+confusion_matrix(Y_test,y_pred)[1][0])/count))\n",
    "\n",
    "from matplotlib.legend_handler import HandlerLine2D\n",
    "\n",
    "line1, = plt.plot(min_samples_splits, train_results, 'b', label= 'Train Error')\n",
    "line2, = plt.plot(min_samples_splits, test_results, 'r', label= 'Test Error')\n",
    "plt.legend(handler_map={line1: HandlerLine2D(numpoints=2)})\n",
    "plt.ylabel('Error')\n",
    "plt.xlabel('Min Samples Split')\n",
    "plt.show()"
   ]
  },
  {
   "cell_type": "markdown",
   "metadata": {},
   "source": [
    "Optimal min_sample_split seems to be 0.007, could cause underfitting though"
   ]
  },
  {
   "cell_type": "markdown",
   "metadata": {},
   "source": [
    "## min_sample_leafs"
   ]
  },
  {
   "cell_type": "code",
   "execution_count": 41,
   "metadata": {
    "scrolled": true
   },
   "outputs": [
    {
     "data": {
      "image/png": "[encoded data removed]",
      "text/plain": [
       "<Figure size 432x288 with 1 Axes>"
      ]
     },
     "metadata": {
      "needs_background": "light"
     },
     "output_type": "display_data"
    }
   ],
   "source": [
    "min_samples_leafs = np.linspace(0.001, 0.01, 11, endpoint=True)\n",
    "train_results = []\n",
    "test_results = []\n",
    "for min_samples_leaf in min_samples_leafs:\n",
    "    dt = DecisionTreeClassifier(max_depth = 10,min_samples_leaf=min_samples_leaf,random_state=42)\n",
    "    dt.fit(X_train, Y_train)\n",
    "    \n",
    "    train_pred = dt.predict(X_train)\n",
    "    train_results.append(((confusion_matrix(Y_train,train_pred)[0][1]+confusion_matrix(Y_train,train_pred)[1][0])/Y_train.count()))\n",
    "   \n",
    "\n",
    "    y_pred = dt.predict(X_test)\n",
    "    test_results.append(((confusion_matrix(Y_test,y_pred)[0][1]+confusion_matrix(Y_test,y_pred)[1][0])/count))\n",
    "\n",
    "\n",
    "line1, = plt.plot(min_samples_leafs, train_results, 'b', label= 'Train Error')\n",
    "line2, = plt.plot(min_samples_leafs, test_results, 'r', label= 'Test Error')\n",
    "plt.legend(handler_map={line1: HandlerLine2D(numpoints=2)})\n",
    "plt.ylabel('Error')\n",
    "plt.xlabel('min samples leaf')\n",
    "plt.show()"
   ]
  },
  {
   "cell_type": "markdown",
   "metadata": {},
   "source": [
    "Increasing this parameter could cause overfitting"
   ]
  },
  {
   "cell_type": "markdown",
   "metadata": {},
   "source": [
    "## Max Features"
   ]
  },
  {
   "cell_type": "code",
   "execution_count": 42,
   "metadata": {},
   "outputs": [
    {
     "data": {
      "image/png": "[encoded data removed]",
      "text/plain": [
       "<Figure size 432x288 with 1 Axes>"
      ]
     },
     "metadata": {
      "needs_background": "light"
     },
     "output_type": "display_data"
    }
   ],
   "source": [
    "max_features = list(range(1,data.shape[1]))\n",
    "train_results = []\n",
    "test_results = []\n",
    "for max_feature in max_features:\n",
    "    dt = DecisionTreeClassifier(max_features=max_feature,random_state=42)\n",
    "    dt.fit(X_train, Y_train)\n",
    "    \n",
    "    train_pred = dt.predict(X_train)\n",
    "    train_results.append(((confusion_matrix(Y_train,train_pred)[0][1]+confusion_matrix(Y_train,train_pred)[1][0])/Y_train.count()))\n",
    "   \n",
    "\n",
    "    y_pred = dt.predict(X_test)\n",
    "    test_results.append(((confusion_matrix(Y_test,y_pred)[0][1]+confusion_matrix(Y_test,y_pred)[1][0])/count))\n",
    "\n",
    "\n",
    "line1, = plt.plot(max_features, train_results, 'b', label= 'Train Error')\n",
    "line2, = plt.plot(max_features, test_results, 'r', label= 'Test Error')\n",
    "plt.legend(handler_map={line1: HandlerLine2D(numpoints=2)})\n",
    "plt.ylabel('Error')\n",
    "plt.xlabel('Max Features')\n",
    "plt.show()"
   ]
  },
  {
   "cell_type": "markdown",
   "metadata": {},
   "source": [
    "# Final Decision Tree Model"
   ]
  },
  {
   "cell_type": "code",
   "execution_count": 43,
   "metadata": {},
   "outputs": [],
   "source": [
    "dtree_final = DecisionTreeClassifier(max_depth = 10,min_samples_leaf=0.001,min_samples_split=0.007,random_state=42)\n",
    "dtree_final.fit(X_train,Y_train)\n",
    "final_predictions = dtree_final.predict(X_test)"
   ]
  },
  {
   "cell_type": "code",
   "execution_count": 44,
   "metadata": {},
   "outputs": [
    {
     "name": "stdout",
     "output_type": "stream",
     "text": [
      "              precision    recall  f1-score   support\n",
      "\n",
      "       LARGE       0.78      0.58      0.66      2333\n",
      "       SMALL       0.88      0.95      0.91      7436\n",
      "\n",
      "    accuracy                           0.86      9769\n",
      "   macro avg       0.83      0.76      0.79      9769\n",
      "weighted avg       0.85      0.86      0.85      9769\n",
      "\n"
     ]
    }
   ],
   "source": [
    "print (classification_report(Y_test,final_predictions))"
   ]
  },
  {
   "cell_type": "code",
   "execution_count": 45,
   "metadata": {},
   "outputs": [
    {
     "name": "stdout",
     "output_type": "stream",
     "text": [
      "0.13921588698945644\n"
     ]
    }
   ],
   "source": [
    "#error rate\n",
    "test_error =  ((confusion_matrix(Y_test,final_predictions)[0][1]+confusion_matrix(Y_test,final_predictions)[1][0])/count)\n",
    "print (test_error)"
   ]
  },
  {
   "cell_type": "markdown",
   "metadata": {},
   "source": [
    "# Plot of the Decision Tree"
   ]
  },
  {
   "cell_type": "code",
   "execution_count": 29,
   "metadata": {},
   "outputs": [],
   "source": [
    "from sklearn import tree"
   ]
  },
  {
   "cell_type": "code",
   "execution_count": 30,
   "metadata": {
    "collapsed": true
   },
   "outputs": [
    {
     "data": {
      "text/plain": [
       "[Text(223.34472419028342, 207.55636363636364, 'X[29] <= 0.5\\ngini = 0.367\\nsamples = 22792\\nvalue = [5508, 17284]'),\n",
       " Text(157.95409919028342, 187.7890909090909, 'X[3] <= 0.083\\ngini = 0.123\\nsamples = 12302\\nvalue = [812, 11490]'),\n",
       " Text(134.27580971659918, 168.0218181818182, 'X[2] <= 0.833\\ngini = 0.095\\nsamples = 12093\\nvalue = [607, 11486]'),\n",
       " Text(95.05202429149799, 148.25454545454545, 'X[4] <= 0.509\\ngini = 0.073\\nsamples = 11414\\nvalue = [432, 10982]'),\n",
       " Text(92.34109311740892, 128.48727272727274, 'X[5] <= 0.444\\ngini = 0.068\\nsamples = 11362\\nvalue = [402, 10960]'),\n",
       " Text(45.408097165991904, 108.72, 'X[0] <= 0.24\\ngini = 0.04\\nsamples = 9293\\nvalue = [190, 9103]'),\n",
       " Text(24.39838056680162, 88.95272727272729, 'X[0] <= 0.13\\ngini = 0.012\\nsamples = 5688\\nvalue = [33, 5655]'),\n",
       " Text(13.554655870445345, 69.18545454545455, 'X[2] <= 0.767\\ngini = 0.004\\nsamples = 3849\\nvalue = [7, 3842]'),\n",
       " Text(8.132793522267207, 49.418181818181836, 'X[38] <= 0.5\\ngini = 0.002\\nsamples = 3440\\nvalue = [3, 3437]'),\n",
       " Text(5.421862348178138, 29.650909090909096, 'X[43] <= 0.5\\ngini = 0.001\\nsamples = 3392\\nvalue = [2, 3390]'),\n",
       " Text(2.710931174089069, 9.883636363636384, 'gini = 0.0\\nsamples = 2660\\nvalue = [0, 2660]'),\n",
       " Text(8.132793522267207, 9.883636363636384, 'gini = 0.005\\nsamples = 732\\nvalue = [2, 730]'),\n",
       " Text(10.843724696356276, 29.650909090909096, 'gini = 0.041\\nsamples = 48\\nvalue = [1, 47]'),\n",
       " Text(18.976518218623482, 49.418181818181836, 'X[1] <= 0.127\\ngini = 0.019\\nsamples = 409\\nvalue = [4, 405]'),\n",
       " Text(16.265587044534414, 29.650909090909096, 'X[1] <= 0.112\\ngini = 0.035\\nsamples = 226\\nvalue = [4, 222]'),\n",
       " Text(13.554655870445345, 9.883636363636384, 'gini = 0.012\\nsamples = 165\\nvalue = [1, 164]'),\n",
       " Text(18.976518218623482, 9.883636363636384, 'gini = 0.094\\nsamples = 61\\nvalue = [3, 58]'),\n",
       " Text(21.68744939271255, 29.650909090909096, 'gini = 0.0\\nsamples = 183\\nvalue = [0, 183]'),\n",
       " Text(35.242105263157896, 69.18545454545455, 'X[2] <= 0.633\\ngini = 0.028\\nsamples = 1839\\nvalue = [26, 1813]'),\n",
       " Text(29.820242914979758, 49.418181818181836, 'X[5] <= 0.403\\ngini = 0.016\\nsamples = 1324\\nvalue = [11, 1313]'),\n",
       " Text(27.10931174089069, 29.650909090909096, 'X[38] <= 0.5\\ngini = 0.012\\nsamples = 1287\\nvalue = [8, 1279]'),\n",
       " Text(24.39838056680162, 9.883636363636384, 'gini = 0.01\\nsamples = 1253\\nvalue = [6, 1247]'),\n",
       " Text(29.820242914979758, 9.883636363636384, 'gini = 0.111\\nsamples = 34\\nvalue = [2, 32]'),\n",
       " Text(32.53117408906883, 29.650909090909096, 'gini = 0.149\\nsamples = 37\\nvalue = [3, 34]'),\n",
       " Text(40.663967611336034, 49.418181818181836, 'X[45] <= 0.5\\ngini = 0.057\\nsamples = 515\\nvalue = [15, 500]'),\n",
       " Text(37.953036437246965, 29.650909090909096, 'X[44] <= 0.5\\ngini = 0.049\\nsamples = 482\\nvalue = [12, 470]'),\n",
       " Text(35.242105263157896, 9.883636363636384, 'gini = 0.037\\nsamples = 428\\nvalue = [8, 420]'),\n",
       " Text(40.663967611336034, 9.883636363636384, 'gini = 0.137\\nsamples = 54\\nvalue = [4, 50]'),\n",
       " Text(43.3748987854251, 29.650909090909096, 'gini = 0.165\\nsamples = 33\\nvalue = [3, 30]'),\n",
       " Text(66.41781376518219, 88.95272727272729, 'X[2] <= 0.767\\ngini = 0.083\\nsamples = 3605\\nvalue = [157, 3448]'),\n",
       " Text(56.92955465587045, 69.18545454545455, 'X[3] <= 0.047\\ngini = 0.062\\nsamples = 3143\\nvalue = [101, 3042]'),\n",
       " Text(54.21862348178138, 49.418181818181836, 'X[36] <= 0.5\\ngini = 0.059\\nsamples = 3115\\nvalue = [95, 3020]'),\n",
       " Text(48.79676113360324, 29.650909090909096, 'X[42] <= 0.5\\ngini = 0.051\\nsamples = 2879\\nvalue = [75, 2804]'),\n",
       " Text(46.08582995951417, 9.883636363636384, 'gini = 0.043\\nsamples = 2719\\nvalue = [60, 2659]'),\n",
       " Text(51.50769230769231, 9.883636363636384, 'gini = 0.17\\nsamples = 160\\nvalue = [15, 145]'),\n",
       " Text(59.640485829959516, 29.650909090909096, 'X[1] <= 0.118\\ngini = 0.155\\nsamples = 236\\nvalue = [20, 216]'),\n",
       " Text(56.92955465587045, 9.883636363636384, 'gini = 0.21\\nsamples = 134\\nvalue = [16, 118]'),\n",
       " Text(62.351417004048585, 9.883636363636384, 'gini = 0.075\\nsamples = 102\\nvalue = [4, 98]'),\n",
       " Text(59.640485829959516, 49.418181818181836, 'gini = 0.337\\nsamples = 28\\nvalue = [6, 22]'),\n",
       " Text(75.90607287449393, 69.18545454545455, 'X[0] <= 0.349\\ngini = 0.213\\nsamples = 462\\nvalue = [56, 406]'),\n",
       " Text(67.77327935222672, 49.418181818181836, 'X[0] <= 0.253\\ngini = 0.145\\nsamples = 203\\nvalue = [16, 187]'),\n",
       " Text(65.06234817813765, 29.650909090909096, 'gini = 0.346\\nsamples = 27\\nvalue = [6, 21]'),\n",
       " Text(70.48421052631579, 29.650909090909096, 'X[42] <= 0.5\\ngini = 0.107\\nsamples = 176\\nvalue = [10, 166]'),\n",
       " Text(67.77327935222672, 9.883636363636384, 'gini = 0.033\\nsamples = 119\\nvalue = [2, 117]'),\n",
       " Text(73.19514170040486, 9.883636363636384, 'gini = 0.241\\nsamples = 57\\nvalue = [8, 49]'),\n",
       " Text(84.03886639676114, 49.418181818181836, 'X[44] <= 0.5\\ngini = 0.261\\nsamples = 259\\nvalue = [40, 219]'),\n",
       " Text(81.32793522267207, 29.650909090909096, 'X[0] <= 0.637\\ngini = 0.238\\nsamples = 232\\nvalue = [32, 200]'),\n",
       " Text(78.617004048583, 9.883636363636384, 'gini = 0.26\\nsamples = 208\\nvalue = [32, 176]'),\n",
       " Text(84.03886639676114, 9.883636363636384, 'gini = 0.0\\nsamples = 24\\nvalue = [0, 24]'),\n",
       " Text(86.7497975708502, 29.650909090909096, 'gini = 0.417\\nsamples = 27\\nvalue = [8, 19]'),\n",
       " Text(139.2740890688259, 108.72, 'X[2] <= 0.767\\ngini = 0.184\\nsamples = 2069\\nvalue = [212, 1857]'),\n",
       " Text(121.31417004048583, 88.95272727272729, 'X[0] <= 0.295\\ngini = 0.128\\nsamples = 1555\\nvalue = [107, 1448]'),\n",
       " Text(104.37085020242915, 69.18545454545455, 'X[0] <= 0.116\\ngini = 0.068\\nsamples = 999\\nvalue = [35, 964]'),\n",
       " Text(94.88259109311741, 49.418181818181836, 'X[2] <= 0.5\\ngini = 0.017\\nsamples = 350\\nvalue = [3, 347]'),\n",
       " Text(92.17165991902834, 29.650909090909096, 'gini = 0.07\\nsamples = 55\\nvalue = [2, 53]'),\n",
       " Text(97.59352226720648, 29.650909090909096, 'X[2] <= 0.633\\ngini = 0.007\\nsamples = 295\\nvalue = [1, 294]'),\n",
       " Text(94.88259109311741, 9.883636363636384, 'gini = 0.0\\nsamples = 270\\nvalue = [0, 270]'),\n",
       " Text(100.30445344129555, 9.883636363636384, 'gini = 0.077\\nsamples = 25\\nvalue = [1, 24]'),\n",
       " Text(113.8591093117409, 49.418181818181836, 'X[58] <= 0.5\\ngini = 0.094\\nsamples = 649\\nvalue = [32, 617]'),\n",
       " Text(108.43724696356276, 29.650909090909096, 'X[51] <= 0.5\\ngini = 0.122\\nsamples = 446\\nvalue = [29, 417]'),\n",
       " Text(105.72631578947369, 9.883636363636384, 'gini = 0.146\\nsamples = 352\\nvalue = [28, 324]'),\n",
       " Text(111.14817813765183, 9.883636363636384, 'gini = 0.021\\nsamples = 94\\nvalue = [1, 93]'),\n",
       " Text(119.28097165991903, 29.650909090909096, 'X[5] <= 0.668\\ngini = 0.029\\nsamples = 203\\nvalue = [3, 200]'),\n",
       " Text(116.57004048582996, 9.883636363636384, 'gini = 0.011\\nsamples = 180\\nvalue = [1, 179]'),\n",
       " Text(121.9919028340081, 9.883636363636384, 'gini = 0.159\\nsamples = 23\\nvalue = [2, 21]'),\n",
       " Text(138.25748987854251, 69.18545454545455, 'X[24] <= 0.5\\ngini = 0.225\\nsamples = 556\\nvalue = [72, 484]'),\n",
       " Text(132.83562753036438, 49.418181818181836, 'X[0] <= 0.5\\ngini = 0.162\\nsamples = 359\\nvalue = [32, 327]'),\n",
       " Text(130.1246963562753, 29.650909090909096, 'X[26] <= 0.5\\ngini = 0.12\\nsamples = 264\\nvalue = [17, 247]'),\n",
       " Text(127.41376518218624, 9.883636363636384, 'gini = 0.095\\nsamples = 240\\nvalue = [12, 228]'),\n",
       " Text(132.83562753036438, 9.883636363636384, 'gini = 0.33\\nsamples = 24\\nvalue = [5, 19]'),\n",
       " Text(135.54655870445345, 29.650909090909096, 'gini = 0.266\\nsamples = 95\\nvalue = [15, 80]'),\n",
       " Text(143.67935222672065, 49.418181818181836, 'X[1] <= 0.206\\ngini = 0.324\\nsamples = 197\\nvalue = [40, 157]'),\n",
       " Text(140.96842105263158, 29.650909090909096, 'X[5] <= 0.454\\ngini = 0.285\\nsamples = 174\\nvalue = [30, 144]'),\n",
       " Text(138.25748987854251, 9.883636363636384, 'gini = 0.142\\nsamples = 39\\nvalue = [3, 36]'),\n",
       " Text(143.67935222672065, 9.883636363636384, 'gini = 0.32\\nsamples = 135\\nvalue = [27, 108]'),\n",
       " Text(146.39028340080972, 29.650909090909096, 'gini = 0.491\\nsamples = 23\\nvalue = [10, 13]'),\n",
       " Text(157.234008097166, 88.95272727272729, 'X[0] <= 0.144\\ngini = 0.325\\nsamples = 514\\nvalue = [105, 409]'),\n",
       " Text(154.52307692307693, 69.18545454545455, 'gini = 0.032\\nsamples = 123\\nvalue = [2, 121]'),\n",
       " Text(159.94493927125507, 69.18545454545455, 'X[58] <= 0.5\\ngini = 0.388\\nsamples = 391\\nvalue = [103, 288]'),\n",
       " Text(154.52307692307693, 49.418181818181836, 'X[0] <= 0.349\\ngini = 0.436\\nsamples = 212\\nvalue = [68, 144]'),\n",
       " Text(151.81214574898786, 29.650909090909096, 'gini = 0.379\\nsamples = 138\\nvalue = [35, 103]'),\n",
       " Text(157.234008097166, 29.650909090909096, 'gini = 0.494\\nsamples = 74\\nvalue = [33, 41]'),\n",
       " Text(165.3668016194332, 49.418181818181836, 'X[1] <= 0.1\\ngini = 0.315\\nsamples = 179\\nvalue = [35, 144]'),\n",
       " Text(162.65587044534414, 29.650909090909096, 'gini = 0.165\\nsamples = 77\\nvalue = [7, 70]'),\n",
       " Text(168.07773279352227, 29.650909090909096, 'gini = 0.398\\nsamples = 102\\nvalue = [28, 74]'),\n",
       " Text(97.76295546558705, 128.48727272727274, 'gini = 0.488\\nsamples = 52\\nvalue = [30, 22]'),\n",
       " Text(173.4995951417004, 148.25454545454545, 'X[0] <= 0.199\\ngini = 0.383\\nsamples = 679\\nvalue = [175, 504]'),\n",
       " Text(170.78866396761134, 128.48727272727274, 'gini = 0.126\\nsamples = 148\\nvalue = [10, 138]'),\n",
       " Text(176.21052631578948, 128.48727272727274, 'X[2] <= 0.9\\ngini = 0.428\\nsamples = 531\\nvalue = [165, 366]'),\n",
       " Text(173.4995951417004, 108.72, 'X[36] <= 0.5\\ngini = 0.358\\nsamples = 390\\nvalue = [91, 299]'),\n",
       " Text(170.78866396761134, 88.95272727272729, 'X[1] <= 0.087\\ngini = 0.284\\nsamples = 297\\nvalue = [51, 246]'),\n",
       " Text(168.07773279352227, 69.18545454545455, 'gini = 0.188\\nsamples = 105\\nvalue = [11, 94]'),\n",
       " Text(173.4995951417004, 69.18545454545455, 'X[1] <= 0.106\\ngini = 0.33\\nsamples = 192\\nvalue = [40, 152]'),\n",
       " Text(170.78866396761134, 49.418181818181836, 'gini = 0.475\\nsamples = 31\\nvalue = [12, 19]'),\n",
       " Text(176.21052631578948, 49.418181818181836, 'X[1] <= 0.129\\ngini = 0.287\\nsamples = 161\\nvalue = [28, 133]'),\n",
       " Text(173.4995951417004, 29.650909090909096, 'gini = 0.202\\nsamples = 70\\nvalue = [8, 62]'),\n",
       " Text(178.92145748987855, 29.650909090909096, 'gini = 0.343\\nsamples = 91\\nvalue = [20, 71]'),\n",
       " Text(176.21052631578948, 88.95272727272729, 'gini = 0.49\\nsamples = 93\\nvalue = [40, 53]'),\n",
       " Text(178.92145748987855, 108.72, 'gini = 0.499\\nsamples = 141\\nvalue = [74, 67]'),\n",
       " Text(181.63238866396762, 168.0218181818182, 'X[3] <= 0.31\\ngini = 0.038\\nsamples = 209\\nvalue = [205, 4]'),\n",
       " Text(178.92145748987855, 148.25454545454545, 'gini = 0.0\\nsamples = 186\\nvalue = [186, 0]'),\n",
       " Text(184.3433198380567, 148.25454545454545, 'gini = 0.287\\nsamples = 23\\nvalue = [19, 4]'),\n",
       " Text(288.7353491902834, 187.7890909090909, 'X[2] <= 0.767\\ngini = 0.495\\nsamples = 10490\\nvalue = [4696, 5794]'),\n",
       " Text(258.25855263157894, 168.0218181818182, 'X[3] <= 0.051\\ngini = 0.445\\nsamples = 7373\\nvalue = [2462, 4911]'),\n",
       " Text(230.51386639676113, 148.25454545454545, 'X[2] <= 0.433\\ngini = 0.421\\nsamples = 7010\\nvalue = [2109, 4901]'),\n",
       " Text(203.31983805668017, 128.48727272727274, 'X[5] <= 0.454\\ngini = 0.164\\nsamples = 1073\\nvalue = [97, 976]'),\n",
       " Text(195.18704453441296, 108.72, 'X[1] <= 0.126\\ngini = 0.118\\nsamples = 859\\nvalue = [54, 805]'),\n",
       " Text(187.05425101214576, 88.95272727272729, 'X[1] <= 0.123\\ngini = 0.165\\nsamples = 497\\nvalue = [45, 452]'),\n",
       " Text(184.3433198380567, 69.18545454545455, 'X[5] <= 0.286\\ngini = 0.151\\nsamples = 474\\nvalue = [39, 435]'),\n",
       " Text(181.63238866396762, 49.418181818181836, 'gini = 0.0\\nsamples = 64\\nvalue = [0, 64]'),\n",
       " Text(187.05425101214576, 49.418181818181836, 'X[0] <= 0.267\\ngini = 0.172\\nsamples = 410\\nvalue = [39, 371]'),\n",
       " Text(184.3433198380567, 29.650909090909096, 'gini = 0.074\\nsamples = 104\\nvalue = [4, 100]'),\n",
       " Text(189.76518218623482, 29.650909090909096, 'X[2] <= 0.3\\ngini = 0.203\\nsamples = 306\\nvalue = [35, 271]'),\n",
       " Text(187.05425101214576, 9.883636363636384, 'gini = 0.14\\nsamples = 171\\nvalue = [13, 158]'),\n",
       " Text(192.4761133603239, 9.883636363636384, 'gini = 0.273\\nsamples = 135\\nvalue = [22, 113]'),\n",
       " Text(189.76518218623482, 69.18545454545455, 'gini = 0.386\\nsamples = 23\\nvalue = [6, 17]'),\n",
       " Text(203.31983805668017, 88.95272727272729, 'X[7] <= 0.5\\ngini = 0.048\\nsamples = 362\\nvalue = [9, 353]'),\n",
       " Text(200.6089068825911, 69.18545454545455, 'X[54] <= 0.5\\ngini = 0.036\\nsamples = 325\\nvalue = [6, 319]'),\n",
       " Text(197.89797570850203, 49.418181818181836, 'X[2] <= 0.233\\ngini = 0.026\\nsamples = 299\\nvalue = [4, 295]'),\n",
       " Text(195.18704453441296, 29.650909090909096, 'gini = 0.0\\nsamples = 128\\nvalue = [0, 128]'),\n",
       " Text(200.6089068825911, 29.650909090909096, 'X[0] <= 0.363\\ngini = 0.046\\nsamples = 171\\nvalue = [4, 167]'),\n",
       " Text(197.89797570850203, 9.883636363636384, 'gini = 0.019\\nsamples = 102\\nvalue = [1, 101]'),\n",
       " Text(203.31983805668017, 9.883636363636384, 'gini = 0.083\\nsamples = 69\\nvalue = [3, 66]'),\n",
       " Text(203.31983805668017, 49.418181818181836, 'gini = 0.142\\nsamples = 26\\nvalue = [2, 24]'),\n",
       " Text(206.03076923076924, 69.18545454545455, 'gini = 0.149\\nsamples = 37\\nvalue = [3, 34]'),\n",
       " Text(211.45263157894738, 108.72, 'X[0] <= 0.267\\ngini = 0.321\\nsamples = 214\\nvalue = [43, 171]'),\n",
       " Text(208.7417004048583, 88.95272727272729, 'gini = 0.198\\nsamples = 63\\nvalue = [7, 56]'),\n",
       " Text(214.16356275303644, 88.95272727272729, 'gini = 0.363\\nsamples = 151\\nvalue = [36, 115]'),\n",
       " Text(257.7078947368421, 128.48727272727274, 'X[4] <= 0.409\\ngini = 0.448\\nsamples = 5937\\nvalue = [2012, 3925]'),\n",
       " Text(240.25627530364375, 108.72, 'X[0] <= 0.253\\ngini = 0.436\\nsamples = 5699\\nvalue = [1829, 3870]'),\n",
       " Text(223.65182186234819, 88.95272727272729, 'X[0] <= 0.158\\ngini = 0.328\\nsamples = 1941\\nvalue = [402, 1539]'),\n",
       " Text(214.16356275303644, 69.18545454545455, 'X[0] <= 0.089\\ngini = 0.224\\nsamples = 700\\nvalue = [90, 610]'),\n",
       " Text(211.45263157894738, 49.418181818181836, 'gini = 0.062\\nsamples = 155\\nvalue = [5, 150]'),\n",
       " Text(216.8744939271255, 49.418181818181836, 'X[2] <= 0.567\\ngini = 0.263\\nsamples = 545\\nvalue = [85, 460]'),\n",
       " Text(211.45263157894738, 29.650909090909096, 'X[5] <= 0.444\\ngini = 0.201\\nsamples = 300\\nvalue = [34, 266]'),\n",
       " Text(208.7417004048583, 9.883636363636384, 'gini = 0.153\\nsamples = 204\\nvalue = [17, 187]'),\n",
       " Text(214.16356275303644, 9.883636363636384, 'gini = 0.291\\nsamples = 96\\nvalue = [17, 79]'),\n",
       " Text(222.29635627530365, 29.650909090909096, 'X[5] <= 0.352\\ngini = 0.33\\nsamples = 245\\nvalue = [51, 194]'),\n",
       " Text(219.58542510121458, 9.883636363636384, 'gini = 0.069\\nsamples = 28\\nvalue = [1, 27]'),\n",
       " Text(225.00728744939272, 9.883636363636384, 'gini = 0.355\\nsamples = 217\\nvalue = [50, 167]'),\n",
       " Text(233.14008097165993, 69.18545454545455, 'X[36] <= 0.5\\ngini = 0.376\\nsamples = 1241\\nvalue = [312, 929]'),\n",
       " Text(230.42914979757086, 49.418181818181836, 'X[1] <= 0.049\\ngini = 0.354\\nsamples = 1115\\nvalue = [256, 859]'),\n",
       " Text(227.7182186234818, 29.650909090909096, 'gini = 0.164\\nsamples = 155\\nvalue = [14, 141]'),\n",
       " Text(233.14008097165993, 29.650909090909096, 'X[2] <= 0.567\\ngini = 0.377\\nsamples = 960\\nvalue = [242, 718]'),\n",
       " Text(230.42914979757086, 9.883636363636384, 'gini = 0.323\\nsamples = 569\\nvalue = [115, 454]'),\n",
       " Text(235.851012145749, 9.883636363636384, 'gini = 0.439\\nsamples = 391\\nvalue = [127, 264]'),\n",
       " Text(235.851012145749, 49.418181818181836, 'gini = 0.494\\nsamples = 126\\nvalue = [56, 70]'),\n",
       " Text(256.86072874493925, 88.95272727272729, 'X[5] <= 0.342\\ngini = 0.471\\nsamples = 3758\\nvalue = [1427, 2331]'),\n",
       " Text(249.40566801619434, 69.18545454545455, 'X[50] <= 0.5\\ngini = 0.27\\nsamples = 392\\nvalue = [63, 329]'),\n",
       " Text(246.69473684210527, 49.418181818181836, 'X[2] <= 0.567\\ngini = 0.195\\nsamples = 292\\nvalue = [32, 260]'),\n",
       " Text(243.9838056680162, 29.650909090909096, 'X[0] <= 0.61\\ngini = 0.112\\nsamples = 168\\nvalue = [10, 158]'),\n",
       " Text(241.27287449392713, 9.883636363636384, 'gini = 0.193\\nsamples = 83\\nvalue = [9, 74]'),\n",
       " Text(246.69473684210527, 9.883636363636384, 'gini = 0.023\\nsamples = 85\\nvalue = [1, 84]'),\n",
       " Text(249.40566801619434, 29.650909090909096, 'gini = 0.292\\nsamples = 124\\nvalue = [22, 102]'),\n",
       " Text(252.1165991902834, 49.418181818181836, 'gini = 0.428\\nsamples = 100\\nvalue = [31, 69]'),\n",
       " Text(264.3157894736842, 69.18545454545455, 'X[2] <= 0.567\\ngini = 0.482\\nsamples = 3366\\nvalue = [1364, 2002]'),\n",
       " Text(257.53846153846155, 49.418181818181836, 'X[43] <= 0.5\\ngini = 0.452\\nsamples = 1905\\nvalue = [656, 1249]'),\n",
       " Text(254.82753036437248, 29.650909090909096, 'X[7] <= 0.5\\ngini = 0.458\\nsamples = 1807\\nvalue = [643, 1164]'),\n",
       " Text(252.1165991902834, 9.883636363636384, 'gini = 0.469\\nsamples = 1574\\nvalue = [590, 984]'),\n",
       " Text(257.53846153846155, 9.883636363636384, 'gini = 0.351\\nsamples = 233\\nvalue = [53, 180]'),\n",
       " Text(260.2493927125506, 29.650909090909096, 'gini = 0.23\\nsamples = 98\\nvalue = [13, 85]'),\n",
       " Text(271.0931174089069, 49.418181818181836, 'X[7] <= 0.5\\ngini = 0.5\\nsamples = 1461\\nvalue = [708, 753]'),\n",
       " Text(265.67125506072875, 29.650909090909096, 'X[36] <= 0.5\\ngini = 0.5\\nsamples = 1286\\nvalue = [655, 631]'),\n",
       " Text(262.9603238866397, 9.883636363636384, 'gini = 0.499\\nsamples = 1054\\nvalue = [502, 552]'),\n",
       " Text(268.3821862348178, 9.883636363636384, 'gini = 0.449\\nsamples = 232\\nvalue = [153, 79]'),\n",
       " Text(276.51497975708503, 29.650909090909096, 'X[47] <= 0.5\\ngini = 0.422\\nsamples = 175\\nvalue = [53, 122]'),\n",
       " Text(273.80404858299596, 9.883636363636384, 'gini = 0.452\\nsamples = 139\\nvalue = [48, 91]'),\n",
       " Text(279.2259109311741, 9.883636363636384, 'gini = 0.239\\nsamples = 36\\nvalue = [5, 31]'),\n",
       " Text(275.1595141700405, 108.72, 'X[4] <= 0.457\\ngini = 0.355\\nsamples = 238\\nvalue = [183, 55]'),\n",
       " Text(272.4485829959514, 88.95272727272729, 'X[0] <= 0.212\\ngini = 0.074\\nsamples = 181\\nvalue = [174, 7]'),\n",
       " Text(269.73765182186236, 69.18545454545455, 'gini = 0.278\\nsamples = 24\\nvalue = [20, 4]'),\n",
       " Text(275.1595141700405, 69.18545454545455, 'gini = 0.037\\nsamples = 157\\nvalue = [154, 3]'),\n",
       " Text(277.87044534412956, 88.95272727272729, 'gini = 0.266\\nsamples = 57\\nvalue = [9, 48]'),\n",
       " Text(286.00323886639677, 148.25454545454545, 'X[0] <= 0.61\\ngini = 0.054\\nsamples = 363\\nvalue = [353, 10]'),\n",
       " Text(283.2923076923077, 128.48727272727274, 'X[1] <= 0.023\\ngini = 0.006\\nsamples = 323\\nvalue = [322, 1]'),\n",
       " Text(280.58137651821863, 108.72, 'gini = 0.083\\nsamples = 23\\nvalue = [22, 1]'),\n",
       " Text(286.00323886639677, 108.72, 'gini = 0.0\\nsamples = 300\\nvalue = [300, 0]'),\n",
       " Text(288.71417004048584, 128.48727272727274, 'gini = 0.349\\nsamples = 40\\nvalue = [31, 9]'),\n",
       " Text(319.21214574898784, 168.0218181818182, 'X[3] <= 0.051\\ngini = 0.406\\nsamples = 3117\\nvalue = [2234, 883]'),\n",
       " Text(309.04615384615386, 148.25454545454545, 'X[4] <= 0.409\\ngini = 0.443\\nsamples = 2658\\nvalue = [1777, 881]'),\n",
       " Text(296.84696356275305, 128.48727272727274, 'X[5] <= 0.321\\ngini = 0.464\\nsamples = 2385\\nvalue = [1514, 871]'),\n",
       " Text(291.4251012145749, 108.72, 'X[50] <= 0.5\\ngini = 0.462\\nsamples = 204\\nvalue = [74, 130]'),\n",
       " Text(288.71417004048584, 88.95272727272729, 'gini = 0.407\\nsamples = 155\\nvalue = [44, 111]'),\n",
       " Text(294.136032388664, 88.95272727272729, 'gini = 0.475\\nsamples = 49\\nvalue = [30, 19]'),\n",
       " Text(302.2688259109312, 108.72, 'X[0] <= 0.116\\ngini = 0.449\\nsamples = 2181\\nvalue = [1440, 741]'),\n",
       " Text(299.5578947368421, 88.95272727272729, 'gini = 0.338\\nsamples = 51\\nvalue = [11, 40]'),\n",
       " Text(304.97975708502025, 88.95272727272729, 'X[3] <= 0.031\\ngini = 0.442\\nsamples = 2130\\nvalue = [1429, 701]'),\n",
       " Text(302.2688259109312, 69.18545454545455, 'X[36] <= 0.5\\ngini = 0.435\\nsamples = 2090\\nvalue = [1422, 668]'),\n",
       " Text(292.78056680161944, 49.418181818181836, 'X[42] <= 0.5\\ngini = 0.46\\nsamples = 1484\\nvalue = [951, 533]'),\n",
       " Text(287.3587044534413, 29.650909090909096, 'X[44] <= 0.5\\ngini = 0.494\\nsamples = 708\\nvalue = [394, 314]'),\n",
       " Text(284.64777327935224, 9.883636363636384, 'gini = 0.5\\nsamples = 440\\nvalue = [221, 219]'),\n",
       " Text(290.0696356275304, 9.883636363636384, 'gini = 0.458\\nsamples = 268\\nvalue = [173, 95]'),\n",
       " Text(298.2024291497976, 29.650909090909096, 'X[2] <= 0.9\\ngini = 0.405\\nsamples = 776\\nvalue = [557, 219]'),\n",
       " Text(295.4914979757085, 9.883636363636384, 'gini = 0.436\\nsamples = 566\\nvalue = [384, 182]'),\n",
       " Text(300.91336032388665, 9.883636363636384, 'gini = 0.29\\nsamples = 210\\nvalue = [173, 37]'),\n",
       " Text(311.7570850202429, 49.418181818181836, 'X[7] <= 0.5\\ngini = 0.346\\nsamples = 606\\nvalue = [471, 135]'),\n",
       " Text(309.04615384615386, 29.650909090909096, 'X[0] <= 0.158\\ngini = 0.316\\nsamples = 554\\nvalue = [445, 109]'),\n",
       " Text(306.3352226720648, 9.883636363636384, 'gini = 0.487\\nsamples = 31\\nvalue = [18, 13]'),\n",
       " Text(311.7570850202429, 9.883636363636384, 'gini = 0.3\\nsamples = 523\\nvalue = [427, 96]'),\n",
       " Text(314.468016194332, 29.650909090909096, 'gini = 0.5\\nsamples = 52\\nvalue = [26, 26]'),\n",
       " Text(307.6906882591093, 69.18545454545455, 'gini = 0.289\\nsamples = 40\\nvalue = [7, 33]'),\n",
       " Text(321.24534412955467, 128.48727272727274, 'X[4] <= 0.457\\ngini = 0.071\\nsamples = 273\\nvalue = [263, 10]'),\n",
       " Text(318.5344129554656, 108.72, 'X[10] <= 0.5\\ngini = 0.018\\nsamples = 220\\nvalue = [218, 2]'),\n",
       " Text(315.82348178137653, 88.95272727272729, 'X[0] <= 0.459\\ngini = 0.01\\nsamples = 197\\nvalue = [196, 1]'),\n",
       " Text(313.11255060728746, 69.18545454545455, 'gini = 0.0\\nsamples = 155\\nvalue = [155, 0]'),\n",
       " Text(318.5344129554656, 69.18545454545455, 'gini = 0.046\\nsamples = 42\\nvalue = [41, 1]'),\n",
       " Text(321.24534412955467, 88.95272727272729, 'gini = 0.083\\nsamples = 23\\nvalue = [22, 1]'),\n",
       " Text(323.95627530364374, 108.72, 'gini = 0.256\\nsamples = 53\\nvalue = [45, 8]'),\n",
       " Text(329.3781376518219, 148.25454545454545, 'X[0] <= 0.623\\ngini = 0.009\\nsamples = 459\\nvalue = [457, 2]'),\n",
       " Text(326.6672064777328, 128.48727272727274, 'gini = 0.0\\nsamples = 411\\nvalue = [411, 0]'),\n",
       " Text(332.08906882591094, 128.48727272727274, 'gini = 0.08\\nsamples = 48\\nvalue = [46, 2]')]"
      ]
     },
     "execution_count": 30,
     "metadata": {},
     "output_type": "execute_result"
    },
    {
     "data": {
      "image/png": "[encoded data removed]",
      "text/plain": [
       "<Figure size 432x288 with 1 Axes>"
      ]
     },
     "metadata": {
      "needs_background": "light"
     },
     "output_type": "display_data"
    }
   ],
   "source": [
    "tree.plot_tree(dtree_final.fit(X_train,Y_train))"
   ]
  },
  {
   "cell_type": "code",
   "execution_count": 38,
   "metadata": {
    "collapsed": true
   },
   "outputs": [
    {
     "name": "stdout",
     "output_type": "stream",
     "text": [
      "20895    0\n",
      "3384     1\n",
      "1832     1\n",
      "18919    0\n",
      "31685    1\n",
      "        ..\n",
      "5695     0\n",
      "8006     0\n",
      "17745    1\n",
      "17931    0\n",
      "13151    0\n",
      "Name: 5_C1, Length: 22792, dtype: uint8\n"
     ]
    }
   ],
   "source": [
    "print (X_train.iloc[:,29])"
   ]
  },
  {
   "cell_type": "markdown",
   "metadata": {},
   "source": [
    "## Compare model with normalized data to model if data is not normalized"
   ]
  },
  {
   "cell_type": "code",
   "execution_count": 69,
   "metadata": {},
   "outputs": [
    {
     "data": {
      "text/html": [
       "<div>\n",
       "<style scoped>\n",
       "    .dataframe tbody tr th:only-of-type {\n",
       "        vertical-align: middle;\n",
       "    }\n",
       "\n",
       "    .dataframe tbody tr th {\n",
       "        vertical-align: top;\n",
       "    }\n",
       "\n",
       "    .dataframe thead th {\n",
       "        text-align: right;\n",
       "    }\n",
       "</style>\n",
       "<table border=\"1\" class=\"dataframe\">\n",
       "  <thead>\n",
       "    <tr style=\"text-align: right;\">\n",
       "      <th></th>\n",
       "      <th>0</th>\n",
       "      <th>1</th>\n",
       "      <th>2</th>\n",
       "      <th>3</th>\n",
       "      <th>4</th>\n",
       "      <th>5</th>\n",
       "      <th>6</th>\n",
       "      <th>7</th>\n",
       "      <th>8</th>\n",
       "      <th>9</th>\n",
       "      <th>10</th>\n",
       "      <th>11</th>\n",
       "      <th>12</th>\n",
       "      <th>13</th>\n",
       "      <th>14</th>\n",
       "    </tr>\n",
       "  </thead>\n",
       "  <tbody>\n",
       "    <tr>\n",
       "      <td>0</td>\n",
       "      <td>39</td>\n",
       "      <td>A0</td>\n",
       "      <td>77516</td>\n",
       "      <td>B0</td>\n",
       "      <td>13</td>\n",
       "      <td>C0</td>\n",
       "      <td>D0</td>\n",
       "      <td>E0</td>\n",
       "      <td>F0</td>\n",
       "      <td>G0</td>\n",
       "      <td>2174</td>\n",
       "      <td>0</td>\n",
       "      <td>40</td>\n",
       "      <td>H0</td>\n",
       "      <td>SMALL</td>\n",
       "    </tr>\n",
       "    <tr>\n",
       "      <td>1</td>\n",
       "      <td>50</td>\n",
       "      <td>A1</td>\n",
       "      <td>83311</td>\n",
       "      <td>B0</td>\n",
       "      <td>13</td>\n",
       "      <td>C1</td>\n",
       "      <td>D1</td>\n",
       "      <td>E1</td>\n",
       "      <td>F0</td>\n",
       "      <td>G0</td>\n",
       "      <td>0</td>\n",
       "      <td>0</td>\n",
       "      <td>13</td>\n",
       "      <td>H0</td>\n",
       "      <td>SMALL</td>\n",
       "    </tr>\n",
       "    <tr>\n",
       "      <td>2</td>\n",
       "      <td>38</td>\n",
       "      <td>A2</td>\n",
       "      <td>215646</td>\n",
       "      <td>B1</td>\n",
       "      <td>9</td>\n",
       "      <td>C2</td>\n",
       "      <td>D2</td>\n",
       "      <td>E0</td>\n",
       "      <td>F0</td>\n",
       "      <td>G0</td>\n",
       "      <td>0</td>\n",
       "      <td>0</td>\n",
       "      <td>40</td>\n",
       "      <td>H0</td>\n",
       "      <td>SMALL</td>\n",
       "    </tr>\n",
       "    <tr>\n",
       "      <td>3</td>\n",
       "      <td>53</td>\n",
       "      <td>A2</td>\n",
       "      <td>234721</td>\n",
       "      <td>B2</td>\n",
       "      <td>7</td>\n",
       "      <td>C1</td>\n",
       "      <td>D2</td>\n",
       "      <td>E1</td>\n",
       "      <td>F1</td>\n",
       "      <td>G0</td>\n",
       "      <td>0</td>\n",
       "      <td>0</td>\n",
       "      <td>40</td>\n",
       "      <td>H0</td>\n",
       "      <td>SMALL</td>\n",
       "    </tr>\n",
       "    <tr>\n",
       "      <td>4</td>\n",
       "      <td>28</td>\n",
       "      <td>A2</td>\n",
       "      <td>338409</td>\n",
       "      <td>B0</td>\n",
       "      <td>13</td>\n",
       "      <td>C1</td>\n",
       "      <td>D3</td>\n",
       "      <td>E2</td>\n",
       "      <td>F1</td>\n",
       "      <td>G1</td>\n",
       "      <td>0</td>\n",
       "      <td>0</td>\n",
       "      <td>40</td>\n",
       "      <td>H1</td>\n",
       "      <td>SMALL</td>\n",
       "    </tr>\n",
       "  </tbody>\n",
       "</table>\n",
       "</div>"
      ],
      "text/plain": [
       "   0   1       2   3   4   5   6   7   8   9     10  11  12  13     14\n",
       "0  39  A0   77516  B0  13  C0  D0  E0  F0  G0  2174   0  40  H0  SMALL\n",
       "1  50  A1   83311  B0  13  C1  D1  E1  F0  G0     0   0  13  H0  SMALL\n",
       "2  38  A2  215646  B1   9  C2  D2  E0  F0  G0     0   0  40  H0  SMALL\n",
       "3  53  A2  234721  B2   7  C1  D2  E1  F1  G0     0   0  40  H0  SMALL\n",
       "4  28  A2  338409  B0  13  C1  D3  E2  F1  G1     0   0  40  H1  SMALL"
      ]
     },
     "execution_count": 69,
     "metadata": {},
     "output_type": "execute_result"
    }
   ],
   "source": [
    "data.head()"
   ]
  },
  {
   "cell_type": "code",
   "execution_count": 135,
   "metadata": {},
   "outputs": [],
   "source": [
    "df = pd.get_dummies(data, columns = [1,3,5,6,7,8,9,13], drop_first = True)"
   ]
  },
  {
   "cell_type": "code",
   "execution_count": 136,
   "metadata": {},
   "outputs": [
    {
     "name": "stdout",
     "output_type": "stream",
     "text": [
      "<class 'pandas.core.frame.DataFrame'>\n",
      "RangeIndex: 32561 entries, 0 to 32560\n",
      "Columns: 101 entries, 0 to 13_H9\n",
      "dtypes: int64(6), object(1), uint8(94)\n",
      "memory usage: 4.7+ MB\n"
     ]
    }
   ],
   "source": [
    "df.info()"
   ]
  },
  {
   "cell_type": "code",
   "execution_count": 137,
   "metadata": {},
   "outputs": [],
   "source": [
    "df.insert(11,'1_A5', 0)\n",
    "df.insert(39,'6_D11', 0)\n",
    "df.insert(96,'13_H4', 0)"
   ]
  },
  {
   "cell_type": "code",
   "execution_count": 138,
   "metadata": {},
   "outputs": [],
   "source": [
    "X_nn = df.drop(14, axis = 1)\n",
    "Y_nn = df[14]"
   ]
  },
  {
   "cell_type": "code",
   "execution_count": 139,
   "metadata": {},
   "outputs": [],
   "source": [
    "X_train_nn, X_test_nn , Y_train_nn, Y_test_nn = train_test_split(X_nn,Y_nn, test_size = 0.3, random_state = 101)"
   ]
  },
  {
   "cell_type": "code",
   "execution_count": 140,
   "metadata": {},
   "outputs": [],
   "source": [
    "dtree_nn = DecisionTreeClassifier(max_depth = 10,min_samples_leaf=0.001,min_samples_split=0.007, random_state=42)\n",
    "dtree_nn.fit(X_train_nn,Y_train_nn)\n",
    "predictions_nn = dtree_nn.predict(X_test_nn)"
   ]
  },
  {
   "cell_type": "code",
   "execution_count": 141,
   "metadata": {},
   "outputs": [
    {
     "name": "stdout",
     "output_type": "stream",
     "text": [
      "              precision    recall  f1-score   support\n",
      "\n",
      "       LARGE       0.78      0.58      0.66      2333\n",
      "       SMALL       0.88      0.95      0.91      7436\n",
      "\n",
      "    accuracy                           0.86      9769\n",
      "   macro avg       0.83      0.76      0.79      9769\n",
      "weighted avg       0.85      0.86      0.85      9769\n",
      "\n"
     ]
    }
   ],
   "source": [
    "print (classification_report(Y_test_nn,predictions_nn))"
   ]
  },
  {
   "cell_type": "code",
   "execution_count": 142,
   "metadata": {},
   "outputs": [
    {
     "name": "stdout",
     "output_type": "stream",
     "text": [
      "0.13921588698945644\n"
     ]
    }
   ],
   "source": [
    "#error rate\n",
    "test_error_nn =  ((confusion_matrix(Y_test,predictions_nn)[0][1]+confusion_matrix(Y_test_nn,predictions_nn)[1][0])/count)\n",
    "print (test_error_nn)"
   ]
  },
  {
   "cell_type": "code",
   "execution_count": 206,
   "metadata": {},
   "outputs": [
    {
     "data": {
      "image/png": "[encoded data removed]",
      "text/plain": [
       "<Figure size 432x288 with 1 Axes>"
      ]
     },
     "metadata": {
      "needs_background": "light"
     },
     "output_type": "display_data"
    }
   ],
   "source": [
    "max_depths = np.linspace(1, 32, 32, endpoint=True)\n",
    "train_results = []\n",
    "test_results = []\n",
    "for max_depth in max_depths:\n",
    "    dtree = DecisionTreeClassifier(max_depth=max_depth,random_state=42)\n",
    "    dtree.fit(X_train_nn, Y_train_nn)\n",
    "    train_pred = dtree.predict(X_train_nn)\n",
    "   \n",
    "    train_results.append(((confusion_matrix(Y_train_nn,train_pred)[0][1]+confusion_matrix(Y_train_nn,train_pred)[1][0])/Y_train_nn.count()))\n",
    "   \n",
    "\n",
    "    y_pred = dtree.predict(X_test_nn)\n",
    "    \n",
    "    test_results.append(((confusion_matrix(Y_test_nn,y_pred)[0][1]+confusion_matrix(Y_test_nn,y_pred)[1][0])/count))\n",
    "\n",
    "from matplotlib.legend_handler import HandlerLine2D\n",
    "\n",
    "line1, = plt.plot(max_depths, train_results, 'b', label= 'Train Error')\n",
    "line2, = plt.plot(max_depths, test_results, 'r', label= 'Test Error')\n",
    "plt.legend(handler_map={line1: HandlerLine2D(numpoints=2)})\n",
    "plt.ylabel('Error')\n",
    "plt.xlabel('Tree depth')\n",
    "plt.show()"
   ]
  },
  {
   "cell_type": "code",
   "execution_count": 227,
   "metadata": {},
   "outputs": [
    {
     "data": {
      "image/png": "[encoded data removed]",
      "text/plain": [
       "<Figure size 432x288 with 1 Axes>"
      ]
     },
     "metadata": {
      "needs_background": "light"
     },
     "output_type": "display_data"
    }
   ],
   "source": [
    "min_samples_splits = [0.001,0.002,0.003,0.004,0.005,0.006,0.007,0.008,0.009,0.01]#np.linspace(0.0, 0.1, 10, endpoint=True)\n",
    "\n",
    "train_results = []\n",
    "test_results = []\n",
    "for min_samples_split in min_samples_splits:\n",
    "    dtree = DecisionTreeClassifier(max_depth = 7,min_samples_split=min_samples_split,random_state=42)\n",
    "    dtree.fit(X_train_nn, Y_train_nn)\n",
    "    train_pred = dtree.predict(X_train_nn)\n",
    "   \n",
    "    train_results.append(((confusion_matrix(Y_train_nn,train_pred)[0][1]+confusion_matrix(Y_train_nn,train_pred)[1][0])/Y_train_nn.count()))\n",
    "   \n",
    "\n",
    "    y_pred = dtree.predict(X_test_nn)\n",
    "    \n",
    "    test_results.append(((confusion_matrix(Y_test_nn,y_pred)[0][1]+confusion_matrix(Y_test_nn,y_pred)[1][0])/count))\n",
    "\n",
    "from matplotlib.legend_handler import HandlerLine2D\n",
    "\n",
    "line1, = plt.plot(min_samples_splits, train_results, 'b', label= 'Train Error')\n",
    "line2, = plt.plot(min_samples_splits, test_results, 'r', label= 'Test Error')\n",
    "plt.legend(handler_map={line1: HandlerLine2D(numpoints=2)})\n",
    "plt.ylabel('Error')\n",
    "plt.xlabel('Min Samples Split')\n",
    "plt.show()"
   ]
  },
  {
   "cell_type": "code",
   "execution_count": 236,
   "metadata": {},
   "outputs": [
    {
     "data": {
      "image/png": "[encoded data removed]",
      "text/plain": [
       "<Figure size 432x288 with 1 Axes>"
      ]
     },
     "metadata": {
      "needs_background": "light"
     },
     "output_type": "display_data"
    }
   ],
   "source": [
    "min_samples_leafs = np.linspace(0.001, 0.01, 11, endpoint=True)\n",
    "train_results = []\n",
    "test_results = []\n",
    "for min_samples_leaf in min_samples_leafs:\n",
    "    dt = DecisionTreeClassifier(max_depth = 7,min_samples_split=0.007,min_samples_leaf=min_samples_leaf,random_state=42)\n",
    "    dt.fit(X_train_nn, Y_train_nn)\n",
    "    \n",
    "    train_pred = dt.predict(X_train_nn)\n",
    "    train_results.append(((confusion_matrix(Y_train_nn,train_pred)[0][1]+confusion_matrix(Y_train_nn,train_pred)[1][0])/Y_train_nn.count()))\n",
    "   \n",
    "\n",
    "    y_pred = dt.predict(X_test_nn)\n",
    "    test_results.append(((confusion_matrix(Y_test_nn,y_pred)[0][1]+confusion_matrix(Y_test_nn,y_pred)[1][0])/count))\n",
    "\n",
    "\n",
    "line1, = plt.plot(min_samples_leafs, train_results, 'b', label= 'Train Error')\n",
    "line2, = plt.plot(min_samples_leafs, test_results, 'r', label= 'Test Error')\n",
    "plt.legend(handler_map={line1: HandlerLine2D(numpoints=2)})\n",
    "plt.ylabel('Error')\n",
    "plt.xlabel('min samples leaf')\n",
    "plt.show()"
   ]
  },
  {
   "cell_type": "markdown",
   "metadata": {},
   "source": [
    "# Compare normalized to not normalized"
   ]
  },
  {
   "cell_type": "code",
   "execution_count": 260,
   "metadata": {},
   "outputs": [
    {
     "name": "stdout",
     "output_type": "stream",
     "text": [
      "Not Normalized Data Testing Error: 0.13921588698945644\n",
      "Normalized Data Testing Error: 0.13921588698945644\n"
     ]
    }
   ],
   "source": [
    "print ('Not Normalized Data Testing Error: ' + str(test_error_nn))\n",
    "print ('Normalized Data Testing Error: ' + str(test_error))"
   ]
  },
  {
   "cell_type": "markdown",
   "metadata": {},
   "source": [
    "They ended up being the same meaning that normalizing the data for a DT classifier is not necessary"
   ]
  },
  {
   "cell_type": "markdown",
   "metadata": {},
   "source": [
    "# Classify Futures"
   ]
  },
  {
   "cell_type": "code",
   "execution_count": 143,
   "metadata": {},
   "outputs": [],
   "source": [
    "futures = pd.read_csv('futures.csv',header=None)\n"
   ]
  },
  {
   "cell_type": "code",
   "execution_count": 144,
   "metadata": {},
   "outputs": [],
   "source": [
    "futures_final = pd.get_dummies(futures, columns = [1,3,5,6,7,8,9,13], drop_first = True)"
   ]
  },
  {
   "cell_type": "code",
   "execution_count": 145,
   "metadata": {},
   "outputs": [],
   "source": [
    "futures_final.insert(8,'1_A2',0)\n",
    "futures_final.insert(44,'6_D3',0)\n",
    "futures_final.insert(62,'13_H1',0)\n",
    "futures_final.insert(97,'13_H41',0)"
   ]
  },
  {
   "cell_type": "code",
   "execution_count": 146,
   "metadata": {},
   "outputs": [
    {
     "name": "stdout",
     "output_type": "stream",
     "text": [
      "<class 'pandas.core.frame.DataFrame'>\n",
      "RangeIndex: 7684 entries, 0 to 7683\n",
      "Columns: 103 entries, 0 to 13_H9\n",
      "dtypes: int64(10), uint8(93)\n",
      "memory usage: 1.3 MB\n"
     ]
    }
   ],
   "source": [
    "futures_final.info()"
   ]
  },
  {
   "cell_type": "code",
   "execution_count": 151,
   "metadata": {},
   "outputs": [],
   "source": [
    "x = futures_final.columns\n",
    "y = X_nn.columns\n",
    "\n",
    "for item in x:\n",
    "    if item not in y:\n",
    "        print (item)"
   ]
  },
  {
   "cell_type": "code",
   "execution_count": 147,
   "metadata": {},
   "outputs": [],
   "source": [
    "# Train using the final model on normalized data\n",
    "futures_predictions = dtree_nn.predict(futures_final)"
   ]
  },
  {
   "cell_type": "code",
   "execution_count": 148,
   "metadata": {},
   "outputs": [],
   "source": [
    "futures_predictions_df = pd.DataFrame(futures_predictions)"
   ]
  },
  {
   "cell_type": "markdown",
   "metadata": {},
   "source": [
    "# Futures with predicted labels"
   ]
  },
  {
   "cell_type": "code",
   "execution_count": 149,
   "metadata": {},
   "outputs": [],
   "source": [
    "futures_with_pred = futures.merge(futures_predictions_df,left_index = True, right_index = True)"
   ]
  },
  {
   "cell_type": "code",
   "execution_count": 150,
   "metadata": {},
   "outputs": [
    {
     "data": {
      "text/html": [
       "<div>\n",
       "<style scoped>\n",
       "    .dataframe tbody tr th:only-of-type {\n",
       "        vertical-align: middle;\n",
       "    }\n",
       "\n",
       "    .dataframe tbody tr th {\n",
       "        vertical-align: top;\n",
       "    }\n",
       "\n",
       "    .dataframe thead th {\n",
       "        text-align: right;\n",
       "    }\n",
       "</style>\n",
       "<table border=\"1\" class=\"dataframe\">\n",
       "  <thead>\n",
       "    <tr style=\"text-align: right;\">\n",
       "      <th></th>\n",
       "      <th>0_x</th>\n",
       "      <th>1</th>\n",
       "      <th>2</th>\n",
       "      <th>3</th>\n",
       "      <th>4</th>\n",
       "      <th>5</th>\n",
       "      <th>6</th>\n",
       "      <th>7</th>\n",
       "      <th>8</th>\n",
       "      <th>9</th>\n",
       "      <th>10</th>\n",
       "      <th>11</th>\n",
       "      <th>12</th>\n",
       "      <th>13</th>\n",
       "      <th>0_y</th>\n",
       "    </tr>\n",
       "  </thead>\n",
       "  <tbody>\n",
       "    <tr>\n",
       "      <td>0</td>\n",
       "      <td>38</td>\n",
       "      <td>A0</td>\n",
       "      <td>89814</td>\n",
       "      <td>B1</td>\n",
       "      <td>9</td>\n",
       "      <td>C1</td>\n",
       "      <td>D1</td>\n",
       "      <td>E1</td>\n",
       "      <td>F1</td>\n",
       "      <td>G0</td>\n",
       "      <td>0</td>\n",
       "      <td>0</td>\n",
       "      <td>50</td>\n",
       "      <td>H0</td>\n",
       "      <td>SMALL</td>\n",
       "    </tr>\n",
       "    <tr>\n",
       "      <td>1</td>\n",
       "      <td>28</td>\n",
       "      <td>A1</td>\n",
       "      <td>336951</td>\n",
       "      <td>B2</td>\n",
       "      <td>12</td>\n",
       "      <td>C1</td>\n",
       "      <td>D2</td>\n",
       "      <td>E1</td>\n",
       "      <td>F1</td>\n",
       "      <td>G0</td>\n",
       "      <td>0</td>\n",
       "      <td>0</td>\n",
       "      <td>40</td>\n",
       "      <td>H0</td>\n",
       "      <td>SMALL</td>\n",
       "    </tr>\n",
       "    <tr>\n",
       "      <td>2</td>\n",
       "      <td>44</td>\n",
       "      <td>A0</td>\n",
       "      <td>160323</td>\n",
       "      <td>B3</td>\n",
       "      <td>10</td>\n",
       "      <td>C1</td>\n",
       "      <td>D0</td>\n",
       "      <td>E1</td>\n",
       "      <td>F0</td>\n",
       "      <td>G0</td>\n",
       "      <td>7688</td>\n",
       "      <td>0</td>\n",
       "      <td>40</td>\n",
       "      <td>H0</td>\n",
       "      <td>LARGE</td>\n",
       "    </tr>\n",
       "    <tr>\n",
       "      <td>3</td>\n",
       "      <td>18</td>\n",
       "      <td>?</td>\n",
       "      <td>103497</td>\n",
       "      <td>B3</td>\n",
       "      <td>10</td>\n",
       "      <td>C0</td>\n",
       "      <td>?</td>\n",
       "      <td>E0</td>\n",
       "      <td>F1</td>\n",
       "      <td>G1</td>\n",
       "      <td>0</td>\n",
       "      <td>0</td>\n",
       "      <td>30</td>\n",
       "      <td>H0</td>\n",
       "      <td>SMALL</td>\n",
       "    </tr>\n",
       "    <tr>\n",
       "      <td>4</td>\n",
       "      <td>63</td>\n",
       "      <td>A3</td>\n",
       "      <td>104626</td>\n",
       "      <td>B5</td>\n",
       "      <td>15</td>\n",
       "      <td>C1</td>\n",
       "      <td>D5</td>\n",
       "      <td>E1</td>\n",
       "      <td>F1</td>\n",
       "      <td>G0</td>\n",
       "      <td>3103</td>\n",
       "      <td>0</td>\n",
       "      <td>32</td>\n",
       "      <td>H0</td>\n",
       "      <td>SMALL</td>\n",
       "    </tr>\n",
       "  </tbody>\n",
       "</table>\n",
       "</div>"
      ],
      "text/plain": [
       "   0_x   1       2   3   4   5   6   7   8   9    10  11  12  13    0_y\n",
       "0   38  A0   89814  B1   9  C1  D1  E1  F1  G0     0   0  50  H0  SMALL\n",
       "1   28  A1  336951  B2  12  C1  D2  E1  F1  G0     0   0  40  H0  SMALL\n",
       "2   44  A0  160323  B3  10  C1  D0  E1  F0  G0  7688   0  40  H0  LARGE\n",
       "3   18   ?  103497  B3  10  C0   ?  E0  F1  G1     0   0  30  H0  SMALL\n",
       "4   63  A3  104626  B5  15  C1  D5  E1  F1  G0  3103   0  32  H0  SMALL"
      ]
     },
     "execution_count": 150,
     "metadata": {},
     "output_type": "execute_result"
    }
   ],
   "source": [
    "futures_with_pred.head()"
   ]
  },
  {
   "cell_type": "code",
   "execution_count": null,
   "metadata": {},
   "outputs": [],
   "source": []
  },
  {
   "cell_type": "code",
   "execution_count": null,
   "metadata": {},
   "outputs": [],
   "source": []
  },
  {
   "cell_type": "code",
   "execution_count": null,
   "metadata": {},
   "outputs": [],
   "source": []
  },
  {
   "cell_type": "code",
   "execution_count": null,
   "metadata": {},
   "outputs": [],
   "source": []
  }
 ],
 "metadata": {
  "kernelspec": {
   "display_name": "Python 3",
   "language": "python",
   "name": "python3"
  },
  "language_info": {
   "codemirror_mode": {
    "name": "ipython",
    "version": 3
   },
   "file_extension": ".py",
   "mimetype": "text/x-python",
   "name": "python",
   "nbconvert_exporter": "python",
   "pygments_lexer": "ipython3",
   "version": "3.7.4"
  }
 },
 "nbformat": 4,
 "nbformat_minor": 2
}
